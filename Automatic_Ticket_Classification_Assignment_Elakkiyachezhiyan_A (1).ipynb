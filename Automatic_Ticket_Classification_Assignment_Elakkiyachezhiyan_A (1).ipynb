{
 "cells": [
  {
   "cell_type": "markdown",
   "metadata": {
    "id": "rhR-ZUkwJrFn"
   },
   "source": [
    "## Problem Statement \n",
    "\n",
    "You need to build a model that is able to classify customer complaints based on the products/services. By doing so, you can segregate these tickets into their relevant categories and, therefore, help in the quick resolution of the issue.\n",
    "\n",
    "You will be doing topic modelling on the <b>.json</b> data provided by the company. Since this data is not labelled, you need to apply NMF to analyse patterns and classify tickets into the following five clusters based on their products/services:\n",
    "\n",
    "* Credit card / Prepaid card\n",
    "\n",
    "* Bank account services\n",
    "\n",
    "* Theft/Dispute reporting\n",
    "\n",
    "* Mortgages/loans\n",
    "\n",
    "* Others \n",
    "\n",
    "\n",
    "With the help of topic modelling, you will be able to map each ticket onto its respective department/category. You can then use this data to train any supervised model such as logistic regression, decision tree or random forest. Using this trained model, you can classify any new customer complaint support ticket into its relevant department."
   ]
  },
  {
   "cell_type": "markdown",
   "metadata": {
    "id": "mcgXVNyaLUFS"
   },
   "source": [
    "## Pipelines that needs to be performed:\n",
    "\n",
    "You need to perform the following eight major tasks to complete the assignment:\n",
    "\n",
    "1.  Data loading\n",
    "\n",
    "2. Text preprocessing\n",
    "\n",
    "3. Exploratory data analysis (EDA)\n",
    "\n",
    "4. Feature extraction\n",
    "\n",
    "5. Topic modelling \n",
    "\n",
    "6. Model building using supervised learning\n",
    "\n",
    "7. Model training and evaluation\n",
    "\n",
    "8. Model inference"
   ]
  },
  {
   "cell_type": "markdown",
   "metadata": {},
   "source": [
    "**Installation of Spacy**"
   ]
  },
  {
   "cell_type": "code",
   "execution_count": 1,
   "metadata": {},
   "outputs": [
    {
     "name": "stdout",
     "output_type": "stream",
     "text": [
      "Requirement already satisfied: numpy==1.26.4 in c:\\users\\acer\\anaconda3\\lib\\site-packages (1.26.4)\n",
      "Requirement already satisfied: spacy==3.7.4 in c:\\users\\acer\\anaconda3\\lib\\site-packages (3.7.4)\n",
      "Collecting en-core-web-sm==3.7.1\n",
      "  Downloading https://github.com/explosion/spacy-models/releases/download/en_core_web_sm-3.7.1/en_core_web_sm-3.7.1-py3-none-any.whl (12.8 MB)\n",
      "     ---------------------------------------- 0.0/12.8 MB ? eta -:--:--\n",
      "      --------------------------------------- 0.2/12.8 MB 7.3 MB/s eta 0:00:02\n",
      "     - -------------------------------------- 0.5/12.8 MB 4.7 MB/s eta 0:00:03\n",
      "     - -------------------------------------- 0.6/12.8 MB 4.2 MB/s eta 0:00:03\n",
      "     -- ------------------------------------- 0.8/12.8 MB 4.3 MB/s eta 0:00:03\n",
      "     -- ------------------------------------- 0.9/12.8 MB 4.0 MB/s eta 0:00:03\n",
      "     --- ------------------------------------ 1.0/12.8 MB 3.7 MB/s eta 0:00:04\n",
      "     --- ------------------------------------ 1.1/12.8 MB 3.4 MB/s eta 0:00:04\n",
      "     --- ------------------------------------ 1.2/12.8 MB 3.2 MB/s eta 0:00:04\n",
      "     --- ------------------------------------ 1.3/12.8 MB 3.0 MB/s eta 0:00:04\n",
      "     ---- ----------------------------------- 1.3/12.8 MB 2.8 MB/s eta 0:00:05\n",
      "     ---- ----------------------------------- 1.4/12.8 MB 2.6 MB/s eta 0:00:05\n",
      "     ---- ----------------------------------- 1.4/12.8 MB 2.5 MB/s eta 0:00:05\n",
      "     ---- ----------------------------------- 1.5/12.8 MB 2.4 MB/s eta 0:00:05\n",
      "     ---- ----------------------------------- 1.5/12.8 MB 2.3 MB/s eta 0:00:05\n",
      "     ---- ----------------------------------- 1.6/12.8 MB 2.2 MB/s eta 0:00:06\n",
      "     ----- ---------------------------------- 1.6/12.8 MB 2.2 MB/s eta 0:00:06\n",
      "     ----- ---------------------------------- 1.6/12.8 MB 2.2 MB/s eta 0:00:06\n",
      "     ----- ---------------------------------- 1.6/12.8 MB 2.2 MB/s eta 0:00:06\n",
      "     ----- ---------------------------------- 1.6/12.8 MB 2.2 MB/s eta 0:00:06\n",
      "     ----- ---------------------------------- 1.6/12.8 MB 2.2 MB/s eta 0:00:06\n",
      "     ----- ---------------------------------- 1.6/12.8 MB 1.6 MB/s eta 0:00:07\n",
      "     ----- ---------------------------------- 1.7/12.8 MB 1.6 MB/s eta 0:00:07\n",
      "     ----- ---------------------------------- 1.7/12.8 MB 1.6 MB/s eta 0:00:08\n",
      "     ----- ---------------------------------- 1.8/12.8 MB 1.5 MB/s eta 0:00:08\n",
      "     ----- ---------------------------------- 1.8/12.8 MB 1.6 MB/s eta 0:00:08\n",
      "     ------ --------------------------------- 2.0/12.8 MB 1.6 MB/s eta 0:00:07\n",
      "     ------ --------------------------------- 2.0/12.8 MB 1.6 MB/s eta 0:00:07\n",
      "     ------ --------------------------------- 2.1/12.8 MB 1.6 MB/s eta 0:00:07\n",
      "     ------ --------------------------------- 2.2/12.8 MB 1.6 MB/s eta 0:00:07\n",
      "     ------ --------------------------------- 2.2/12.8 MB 1.6 MB/s eta 0:00:07\n",
      "     ------- -------------------------------- 2.3/12.8 MB 1.5 MB/s eta 0:00:07\n",
      "     ------- -------------------------------- 2.3/12.8 MB 1.5 MB/s eta 0:00:07\n",
      "     ------- -------------------------------- 2.4/12.8 MB 1.5 MB/s eta 0:00:07\n",
      "     ------- -------------------------------- 2.4/12.8 MB 1.5 MB/s eta 0:00:07\n",
      "     ------- -------------------------------- 2.5/12.8 MB 1.5 MB/s eta 0:00:07\n",
      "     -------- ------------------------------- 2.6/12.8 MB 1.5 MB/s eta 0:00:07\n",
      "     -------- ------------------------------- 2.6/12.8 MB 1.5 MB/s eta 0:00:07\n",
      "     -------- ------------------------------- 2.7/12.8 MB 1.5 MB/s eta 0:00:07\n",
      "     -------- ------------------------------- 2.7/12.8 MB 1.5 MB/s eta 0:00:07\n",
      "     -------- ------------------------------- 2.8/12.8 MB 1.5 MB/s eta 0:00:07\n",
      "     -------- ------------------------------- 2.8/12.8 MB 1.4 MB/s eta 0:00:07\n",
      "     --------- ------------------------------ 2.9/12.8 MB 1.5 MB/s eta 0:00:07\n",
      "     --------- ------------------------------ 3.0/12.8 MB 1.5 MB/s eta 0:00:07\n",
      "     --------- ------------------------------ 3.0/12.8 MB 1.4 MB/s eta 0:00:07\n",
      "     --------- ------------------------------ 3.1/12.8 MB 1.5 MB/s eta 0:00:07\n",
      "     ---------- ----------------------------- 3.2/12.8 MB 1.5 MB/s eta 0:00:07\n",
      "     ---------- ----------------------------- 3.3/12.8 MB 1.5 MB/s eta 0:00:07\n",
      "     ---------- ----------------------------- 3.5/12.8 MB 1.5 MB/s eta 0:00:07\n",
      "     ----------- ---------------------------- 3.6/12.8 MB 1.5 MB/s eta 0:00:07\n",
      "     ----------- ---------------------------- 3.6/12.8 MB 1.5 MB/s eta 0:00:06\n",
      "     ----------- ---------------------------- 3.7/12.8 MB 1.5 MB/s eta 0:00:06\n",
      "     ----------- ---------------------------- 3.8/12.8 MB 1.5 MB/s eta 0:00:06\n",
      "     ----------- ---------------------------- 3.8/12.8 MB 1.5 MB/s eta 0:00:06\n",
      "     ------------ --------------------------- 3.9/12.8 MB 1.5 MB/s eta 0:00:06\n",
      "     ------------ --------------------------- 3.9/12.8 MB 1.5 MB/s eta 0:00:06\n",
      "     ------------ --------------------------- 3.9/12.8 MB 1.5 MB/s eta 0:00:06\n",
      "     ------------ --------------------------- 3.9/12.8 MB 1.5 MB/s eta 0:00:06\n",
      "     ------------ --------------------------- 3.9/12.8 MB 1.5 MB/s eta 0:00:06\n",
      "     ------------ --------------------------- 3.9/12.8 MB 1.5 MB/s eta 0:00:06\n",
      "     ------------ --------------------------- 3.9/12.8 MB 1.4 MB/s eta 0:00:07\n",
      "     ------------ --------------------------- 4.0/12.8 MB 1.4 MB/s eta 0:00:07\n",
      "     ------------ --------------------------- 4.0/12.8 MB 1.4 MB/s eta 0:00:07\n",
      "     ------------ --------------------------- 4.1/12.8 MB 1.4 MB/s eta 0:00:07\n",
      "     ------------- -------------------------- 4.2/12.8 MB 1.4 MB/s eta 0:00:07\n",
      "     ------------- -------------------------- 4.4/12.8 MB 1.4 MB/s eta 0:00:07\n",
      "     ------------- -------------------------- 4.4/12.8 MB 1.4 MB/s eta 0:00:06\n",
      "     -------------- ------------------------- 4.5/12.8 MB 1.4 MB/s eta 0:00:06\n",
      "     -------------- ------------------------- 4.6/12.8 MB 1.4 MB/s eta 0:00:06\n",
      "     -------------- ------------------------- 4.7/12.8 MB 1.4 MB/s eta 0:00:06\n",
      "     --------------- ------------------------ 4.9/12.8 MB 1.5 MB/s eta 0:00:06\n",
      "     --------------- ------------------------ 5.0/12.8 MB 1.5 MB/s eta 0:00:06\n",
      "     --------------- ------------------------ 5.1/12.8 MB 1.5 MB/s eta 0:00:06\n",
      "     --------------- ------------------------ 5.1/12.8 MB 1.5 MB/s eta 0:00:06\n",
      "     ---------------- ----------------------- 5.2/12.8 MB 1.5 MB/s eta 0:00:06\n",
      "     ---------------- ----------------------- 5.2/12.8 MB 1.5 MB/s eta 0:00:06\n",
      "     ---------------- ----------------------- 5.3/12.8 MB 1.5 MB/s eta 0:00:06\n",
      "     ---------------- ----------------------- 5.3/12.8 MB 1.4 MB/s eta 0:00:06\n",
      "     ---------------- ----------------------- 5.4/12.8 MB 1.5 MB/s eta 0:00:06\n",
      "     ----------------- ---------------------- 5.5/12.8 MB 1.5 MB/s eta 0:00:06\n",
      "     ----------------- ---------------------- 5.6/12.8 MB 1.5 MB/s eta 0:00:05\n",
      "     ----------------- ---------------------- 5.6/12.8 MB 1.5 MB/s eta 0:00:05\n",
      "     ----------------- ---------------------- 5.7/12.8 MB 1.5 MB/s eta 0:00:05\n",
      "     ------------------ --------------------- 5.8/12.8 MB 1.5 MB/s eta 0:00:05\n",
      "     ------------------ --------------------- 5.8/12.8 MB 1.5 MB/s eta 0:00:05\n",
      "     ------------------ --------------------- 5.8/12.8 MB 1.4 MB/s eta 0:00:05\n",
      "     ------------------ --------------------- 5.9/12.8 MB 1.4 MB/s eta 0:00:05\n",
      "     ------------------ --------------------- 6.0/12.8 MB 1.4 MB/s eta 0:00:05\n",
      "     ------------------ --------------------- 6.1/12.8 MB 1.4 MB/s eta 0:00:05\n",
      "     ------------------- -------------------- 6.1/12.8 MB 1.4 MB/s eta 0:00:05\n",
      "     ------------------- -------------------- 6.2/12.8 MB 1.4 MB/s eta 0:00:05\n",
      "     ------------------- -------------------- 6.3/12.8 MB 1.4 MB/s eta 0:00:05\n",
      "     ------------------- -------------------- 6.3/12.8 MB 1.4 MB/s eta 0:00:05\n",
      "     ------------------- -------------------- 6.4/12.8 MB 1.4 MB/s eta 0:00:05\n",
      "     -------------------- ------------------- 6.5/12.8 MB 1.4 MB/s eta 0:00:05\n",
      "     -------------------- ------------------- 6.5/12.8 MB 1.4 MB/s eta 0:00:05\n",
      "     -------------------- ------------------- 6.5/12.8 MB 1.4 MB/s eta 0:00:05\n",
      "     -------------------- ------------------- 6.6/12.8 MB 1.4 MB/s eta 0:00:05\n",
      "     -------------------- ------------------- 6.7/12.8 MB 1.4 MB/s eta 0:00:05\n",
      "     --------------------- ------------------ 6.8/12.8 MB 1.4 MB/s eta 0:00:05\n",
      "     --------------------- ------------------ 6.9/12.8 MB 1.4 MB/s eta 0:00:05\n",
      "     --------------------- ------------------ 7.0/12.8 MB 1.5 MB/s eta 0:00:05\n",
      "     ---------------------- ----------------- 7.1/12.8 MB 1.5 MB/s eta 0:00:04\n",
      "     ---------------------- ----------------- 7.1/12.8 MB 1.5 MB/s eta 0:00:04\n",
      "     ---------------------- ----------------- 7.2/12.8 MB 1.4 MB/s eta 0:00:04\n",
      "     ---------------------- ----------------- 7.2/12.8 MB 1.4 MB/s eta 0:00:04\n",
      "     ---------------------- ----------------- 7.3/12.8 MB 1.4 MB/s eta 0:00:04\n",
      "     ---------------------- ----------------- 7.4/12.8 MB 1.4 MB/s eta 0:00:04\n",
      "     ----------------------- ---------------- 7.4/12.8 MB 1.4 MB/s eta 0:00:04\n",
      "     ----------------------- ---------------- 7.5/12.8 MB 1.4 MB/s eta 0:00:04\n",
      "     ----------------------- ---------------- 7.6/12.8 MB 1.5 MB/s eta 0:00:04\n",
      "     ------------------------ --------------- 7.7/12.8 MB 1.5 MB/s eta 0:00:04\n",
      "     ------------------------ --------------- 7.7/12.8 MB 1.5 MB/s eta 0:00:04\n",
      "     ------------------------ --------------- 7.8/12.8 MB 1.4 MB/s eta 0:00:04\n",
      "     ------------------------ --------------- 7.8/12.8 MB 1.4 MB/s eta 0:00:04\n",
      "     ------------------------ --------------- 7.9/12.8 MB 1.4 MB/s eta 0:00:04\n",
      "     ------------------------- -------------- 8.0/12.8 MB 1.5 MB/s eta 0:00:04\n",
      "     ------------------------- -------------- 8.1/12.8 MB 1.5 MB/s eta 0:00:04\n",
      "     ------------------------- -------------- 8.2/12.8 MB 1.5 MB/s eta 0:00:04\n",
      "     ------------------------- -------------- 8.3/12.8 MB 1.5 MB/s eta 0:00:04\n",
      "     -------------------------- ------------- 8.4/12.8 MB 1.5 MB/s eta 0:00:04\n",
      "     -------------------------- ------------- 8.5/12.8 MB 1.5 MB/s eta 0:00:03\n",
      "     -------------------------- ------------- 8.6/12.8 MB 1.5 MB/s eta 0:00:03\n",
      "     --------------------------- ------------ 8.7/12.8 MB 1.5 MB/s eta 0:00:03\n",
      "     --------------------------- ------------ 8.7/12.8 MB 1.5 MB/s eta 0:00:03\n",
      "     --------------------------- ------------ 8.8/12.8 MB 1.5 MB/s eta 0:00:03\n",
      "     --------------------------- ------------ 8.9/12.8 MB 1.5 MB/s eta 0:00:03\n",
      "     --------------------------- ------------ 9.0/12.8 MB 1.5 MB/s eta 0:00:03\n",
      "     ---------------------------- ----------- 9.0/12.8 MB 1.5 MB/s eta 0:00:03\n",
      "     ---------------------------- ----------- 9.1/12.8 MB 1.5 MB/s eta 0:00:03\n",
      "     ---------------------------- ----------- 9.2/12.8 MB 1.5 MB/s eta 0:00:03\n",
      "     ----------------------------- ---------- 9.3/12.8 MB 1.5 MB/s eta 0:00:03\n",
      "     ----------------------------- ---------- 9.4/12.8 MB 1.5 MB/s eta 0:00:03\n",
      "     ----------------------------- ---------- 9.5/12.8 MB 1.5 MB/s eta 0:00:03\n",
      "     ----------------------------- ---------- 9.5/12.8 MB 1.5 MB/s eta 0:00:03\n",
      "     ----------------------------- ---------- 9.6/12.8 MB 1.5 MB/s eta 0:00:03\n",
      "     ------------------------------ --------- 9.6/12.8 MB 1.5 MB/s eta 0:00:03\n",
      "     ------------------------------ --------- 9.7/12.8 MB 1.5 MB/s eta 0:00:03\n",
      "     ------------------------------ --------- 9.7/12.8 MB 1.5 MB/s eta 0:00:03\n",
      "     ------------------------------ --------- 9.8/12.8 MB 1.5 MB/s eta 0:00:03\n",
      "     ------------------------------ --------- 9.9/12.8 MB 1.5 MB/s eta 0:00:02\n",
      "     ------------------------------- -------- 10.0/12.8 MB 1.5 MB/s eta 0:00:02\n",
      "     ------------------------------- -------- 10.0/12.8 MB 1.5 MB/s eta 0:00:02\n",
      "     ------------------------------- -------- 10.1/12.8 MB 1.5 MB/s eta 0:00:02\n",
      "     ------------------------------- -------- 10.1/12.8 MB 1.5 MB/s eta 0:00:02\n",
      "     ------------------------------- -------- 10.2/12.8 MB 1.5 MB/s eta 0:00:02\n",
      "     -------------------------------- ------- 10.3/12.8 MB 1.5 MB/s eta 0:00:02\n",
      "     -------------------------------- ------- 10.3/12.8 MB 1.5 MB/s eta 0:00:02\n",
      "     -------------------------------- ------- 10.4/12.8 MB 1.5 MB/s eta 0:00:02\n",
      "     -------------------------------- ------- 10.5/12.8 MB 1.4 MB/s eta 0:00:02\n",
      "     --------------------------------- ------ 10.6/12.8 MB 1.5 MB/s eta 0:00:02\n",
      "     --------------------------------- ------ 10.7/12.8 MB 1.4 MB/s eta 0:00:02\n",
      "     --------------------------------- ------ 10.9/12.8 MB 1.4 MB/s eta 0:00:02\n",
      "     ---------------------------------- ----- 11.0/12.8 MB 1.4 MB/s eta 0:00:02\n",
      "     ---------------------------------- ----- 11.1/12.8 MB 1.4 MB/s eta 0:00:02\n",
      "     ---------------------------------- ----- 11.2/12.8 MB 1.4 MB/s eta 0:00:02\n",
      "     ----------------------------------- ---- 11.3/12.8 MB 1.4 MB/s eta 0:00:02\n",
      "     ----------------------------------- ---- 11.4/12.8 MB 1.4 MB/s eta 0:00:01\n",
      "     ----------------------------------- ---- 11.4/12.8 MB 1.4 MB/s eta 0:00:01\n",
      "     ----------------------------------- ---- 11.5/12.8 MB 1.4 MB/s eta 0:00:01\n",
      "     ------------------------------------ --- 11.6/12.8 MB 1.4 MB/s eta 0:00:01\n",
      "     ------------------------------------ --- 11.7/12.8 MB 1.5 MB/s eta 0:00:01\n",
      "     ------------------------------------ --- 11.8/12.8 MB 1.5 MB/s eta 0:00:01\n",
      "     ------------------------------------- -- 11.9/12.8 MB 1.5 MB/s eta 0:00:01\n",
      "     ------------------------------------- -- 12.0/12.8 MB 1.5 MB/s eta 0:00:01\n",
      "     ------------------------------------- -- 12.0/12.8 MB 1.5 MB/s eta 0:00:01\n",
      "     ------------------------------------- -- 12.1/12.8 MB 1.5 MB/s eta 0:00:01\n",
      "     -------------------------------------- - 12.2/12.8 MB 1.5 MB/s eta 0:00:01\n",
      "     -------------------------------------- - 12.3/12.8 MB 1.5 MB/s eta 0:00:01\n",
      "     -------------------------------------- - 12.4/12.8 MB 1.5 MB/s eta 0:00:01\n",
      "     -------------------------------------- - 12.5/12.8 MB 1.5 MB/s eta 0:00:01\n",
      "     ---------------------------------------  12.5/12.8 MB 1.5 MB/s eta 0:00:01\n",
      "     ---------------------------------------  12.6/12.8 MB 1.5 MB/s eta 0:00:01\n",
      "     ---------------------------------------  12.7/12.8 MB 1.5 MB/s eta 0:00:01\n",
      "     ---------------------------------------  12.8/12.8 MB 1.5 MB/s eta 0:00:01\n",
      "     ---------------------------------------- 12.8/12.8 MB 1.5 MB/s eta 0:00:00\n",
      "Requirement already satisfied: spacy<3.8.0,>=3.7.2 in c:\\users\\acer\\anaconda3\\lib\\site-packages (from en-core-web-sm==3.7.1) (3.7.4)\n",
      "Requirement already satisfied: spacy-legacy<3.1.0,>=3.0.11 in c:\\users\\acer\\anaconda3\\lib\\site-packages (from spacy<3.8.0,>=3.7.2->en-core-web-sm==3.7.1) (3.0.12)\n",
      "Requirement already satisfied: spacy-loggers<2.0.0,>=1.0.0 in c:\\users\\acer\\anaconda3\\lib\\site-packages (from spacy<3.8.0,>=3.7.2->en-core-web-sm==3.7.1) (1.0.5)\n",
      "Requirement already satisfied: murmurhash<1.1.0,>=0.28.0 in c:\\users\\acer\\anaconda3\\lib\\site-packages (from spacy<3.8.0,>=3.7.2->en-core-web-sm==3.7.1) (1.0.13)\n",
      "Requirement already satisfied: cymem<2.1.0,>=2.0.2 in c:\\users\\acer\\anaconda3\\lib\\site-packages (from spacy<3.8.0,>=3.7.2->en-core-web-sm==3.7.1) (2.0.11)\n",
      "Requirement already satisfied: preshed<3.1.0,>=3.0.2 in c:\\users\\acer\\anaconda3\\lib\\site-packages (from spacy<3.8.0,>=3.7.2->en-core-web-sm==3.7.1) (3.0.10)\n",
      "Requirement already satisfied: thinc<8.3.0,>=8.2.2 in c:\\users\\acer\\anaconda3\\lib\\site-packages (from spacy<3.8.0,>=3.7.2->en-core-web-sm==3.7.1) (8.2.5)\n",
      "Requirement already satisfied: wasabi<1.2.0,>=0.9.1 in c:\\users\\acer\\anaconda3\\lib\\site-packages (from spacy<3.8.0,>=3.7.2->en-core-web-sm==3.7.1) (1.1.3)\n",
      "Requirement already satisfied: srsly<3.0.0,>=2.4.3 in c:\\users\\acer\\anaconda3\\lib\\site-packages (from spacy<3.8.0,>=3.7.2->en-core-web-sm==3.7.1) (2.5.1)\n",
      "Requirement already satisfied: catalogue<2.1.0,>=2.0.6 in c:\\users\\acer\\anaconda3\\lib\\site-packages (from spacy<3.8.0,>=3.7.2->en-core-web-sm==3.7.1) (2.0.10)\n",
      "Requirement already satisfied: weasel<0.4.0,>=0.1.0 in c:\\users\\acer\\anaconda3\\lib\\site-packages (from spacy<3.8.0,>=3.7.2->en-core-web-sm==3.7.1) (0.3.4)\n",
      "Requirement already satisfied: typer<0.10.0,>=0.3.0 in c:\\users\\acer\\anaconda3\\lib\\site-packages (from spacy<3.8.0,>=3.7.2->en-core-web-sm==3.7.1) (0.9.4)\n",
      "Requirement already satisfied: smart-open<7.0.0,>=5.2.1 in c:\\users\\acer\\anaconda3\\lib\\site-packages (from spacy<3.8.0,>=3.7.2->en-core-web-sm==3.7.1) (5.2.1)\n",
      "Requirement already satisfied: tqdm<5.0.0,>=4.38.0 in c:\\users\\acer\\anaconda3\\lib\\site-packages (from spacy<3.8.0,>=3.7.2->en-core-web-sm==3.7.1) (4.66.4)\n",
      "Requirement already satisfied: requests<3.0.0,>=2.13.0 in c:\\users\\acer\\anaconda3\\lib\\site-packages (from spacy<3.8.0,>=3.7.2->en-core-web-sm==3.7.1) (2.32.2)\n",
      "Requirement already satisfied: pydantic!=1.8,!=1.8.1,<3.0.0,>=1.7.4 in c:\\users\\acer\\anaconda3\\lib\\site-packages (from spacy<3.8.0,>=3.7.2->en-core-web-sm==3.7.1) (2.11.7)\n",
      "Requirement already satisfied: jinja2 in c:\\users\\acer\\anaconda3\\lib\\site-packages (from spacy<3.8.0,>=3.7.2->en-core-web-sm==3.7.1) (3.1.4)\n",
      "Requirement already satisfied: setuptools in c:\\users\\acer\\anaconda3\\lib\\site-packages (from spacy<3.8.0,>=3.7.2->en-core-web-sm==3.7.1) (69.5.1)\n",
      "Requirement already satisfied: packaging>=20.0 in c:\\users\\acer\\anaconda3\\lib\\site-packages (from spacy<3.8.0,>=3.7.2->en-core-web-sm==3.7.1) (23.2)\n",
      "Requirement already satisfied: langcodes<4.0.0,>=3.2.0 in c:\\users\\acer\\anaconda3\\lib\\site-packages (from spacy<3.8.0,>=3.7.2->en-core-web-sm==3.7.1) (3.5.0)\n",
      "Requirement already satisfied: numpy>=1.19.0 in c:\\users\\acer\\anaconda3\\lib\\site-packages (from spacy<3.8.0,>=3.7.2->en-core-web-sm==3.7.1) (1.26.4)\n",
      "Requirement already satisfied: language-data>=1.2 in c:\\users\\acer\\anaconda3\\lib\\site-packages (from langcodes<4.0.0,>=3.2.0->spacy<3.8.0,>=3.7.2->en-core-web-sm==3.7.1) (1.3.0)\n",
      "Requirement already satisfied: annotated-types>=0.6.0 in c:\\users\\acer\\anaconda3\\lib\\site-packages (from pydantic!=1.8,!=1.8.1,<3.0.0,>=1.7.4->spacy<3.8.0,>=3.7.2->en-core-web-sm==3.7.1) (0.6.0)\n",
      "Requirement already satisfied: pydantic-core==2.33.2 in c:\\users\\acer\\anaconda3\\lib\\site-packages (from pydantic!=1.8,!=1.8.1,<3.0.0,>=1.7.4->spacy<3.8.0,>=3.7.2->en-core-web-sm==3.7.1) (2.33.2)\n",
      "Requirement already satisfied: typing-extensions>=4.12.2 in c:\\users\\acer\\anaconda3\\lib\\site-packages (from pydantic!=1.8,!=1.8.1,<3.0.0,>=1.7.4->spacy<3.8.0,>=3.7.2->en-core-web-sm==3.7.1) (4.14.1)\n",
      "Requirement already satisfied: typing-inspection>=0.4.0 in c:\\users\\acer\\anaconda3\\lib\\site-packages (from pydantic!=1.8,!=1.8.1,<3.0.0,>=1.7.4->spacy<3.8.0,>=3.7.2->en-core-web-sm==3.7.1) (0.4.1)\n",
      "Requirement already satisfied: charset-normalizer<4,>=2 in c:\\users\\acer\\anaconda3\\lib\\site-packages (from requests<3.0.0,>=2.13.0->spacy<3.8.0,>=3.7.2->en-core-web-sm==3.7.1) (2.0.4)\n",
      "Requirement already satisfied: idna<4,>=2.5 in c:\\users\\acer\\anaconda3\\lib\\site-packages (from requests<3.0.0,>=2.13.0->spacy<3.8.0,>=3.7.2->en-core-web-sm==3.7.1) (3.7)\n",
      "Requirement already satisfied: urllib3<3,>=1.21.1 in c:\\users\\acer\\anaconda3\\lib\\site-packages (from requests<3.0.0,>=2.13.0->spacy<3.8.0,>=3.7.2->en-core-web-sm==3.7.1) (2.2.2)\n",
      "Requirement already satisfied: certifi>=2017.4.17 in c:\\users\\acer\\anaconda3\\lib\\site-packages (from requests<3.0.0,>=2.13.0->spacy<3.8.0,>=3.7.2->en-core-web-sm==3.7.1) (2025.7.14)\n",
      "Requirement already satisfied: blis<0.8.0,>=0.7.8 in c:\\users\\acer\\anaconda3\\lib\\site-packages (from thinc<8.3.0,>=8.2.2->spacy<3.8.0,>=3.7.2->en-core-web-sm==3.7.1) (0.7.11)\n",
      "Requirement already satisfied: confection<1.0.0,>=0.0.1 in c:\\users\\acer\\anaconda3\\lib\\site-packages (from thinc<8.3.0,>=8.2.2->spacy<3.8.0,>=3.7.2->en-core-web-sm==3.7.1) (0.1.5)\n",
      "Requirement already satisfied: colorama in c:\\users\\acer\\anaconda3\\lib\\site-packages (from tqdm<5.0.0,>=4.38.0->spacy<3.8.0,>=3.7.2->en-core-web-sm==3.7.1) (0.4.6)\n",
      "Requirement already satisfied: click<9.0.0,>=7.1.1 in c:\\users\\acer\\anaconda3\\lib\\site-packages (from typer<0.10.0,>=0.3.0->spacy<3.8.0,>=3.7.2->en-core-web-sm==3.7.1) (8.1.7)\n",
      "Requirement already satisfied: cloudpathlib<0.17.0,>=0.7.0 in c:\\users\\acer\\anaconda3\\lib\\site-packages (from weasel<0.4.0,>=0.1.0->spacy<3.8.0,>=3.7.2->en-core-web-sm==3.7.1) (0.16.0)\n",
      "Requirement already satisfied: MarkupSafe>=2.0 in c:\\users\\acer\\anaconda3\\lib\\site-packages (from jinja2->spacy<3.8.0,>=3.7.2->en-core-web-sm==3.7.1) (2.1.3)\n",
      "Requirement already satisfied: marisa-trie>=1.1.0 in c:\\users\\acer\\anaconda3\\lib\\site-packages (from language-data>=1.2->langcodes<4.0.0,>=3.2.0->spacy<3.8.0,>=3.7.2->en-core-web-sm==3.7.1) (1.2.1)\n",
      "\u001b[38;5;2m[+] Download and installation successful\u001b[0m\n",
      "You can now load the package via spacy.load('en_core_web_sm')\n",
      "Requirement already satisfied: wordcloud in c:\\users\\acer\\anaconda3\\lib\\site-packages (1.9.4)\n",
      "Requirement already satisfied: numpy>=1.6.1 in c:\\users\\acer\\anaconda3\\lib\\site-packages (from wordcloud) (1.26.4)\n",
      "Requirement already satisfied: pillow in c:\\users\\acer\\anaconda3\\lib\\site-packages (from wordcloud) (10.3.0)\n",
      "Requirement already satisfied: matplotlib in c:\\users\\acer\\anaconda3\\lib\\site-packages (from wordcloud) (3.8.4)\n",
      "Requirement already satisfied: contourpy>=1.0.1 in c:\\users\\acer\\anaconda3\\lib\\site-packages (from matplotlib->wordcloud) (1.2.0)\n",
      "Requirement already satisfied: cycler>=0.10 in c:\\users\\acer\\anaconda3\\lib\\site-packages (from matplotlib->wordcloud) (0.11.0)\n",
      "Requirement already satisfied: fonttools>=4.22.0 in c:\\users\\acer\\anaconda3\\lib\\site-packages (from matplotlib->wordcloud) (4.51.0)\n",
      "Requirement already satisfied: kiwisolver>=1.3.1 in c:\\users\\acer\\anaconda3\\lib\\site-packages (from matplotlib->wordcloud) (1.4.4)\n",
      "Requirement already satisfied: packaging>=20.0 in c:\\users\\acer\\anaconda3\\lib\\site-packages (from matplotlib->wordcloud) (23.2)\n",
      "Requirement already satisfied: pyparsing>=2.3.1 in c:\\users\\acer\\anaconda3\\lib\\site-packages (from matplotlib->wordcloud) (3.0.9)\n",
      "Requirement already satisfied: python-dateutil>=2.7 in c:\\users\\acer\\anaconda3\\lib\\site-packages (from matplotlib->wordcloud) (2.9.0.post0)\n",
      "Requirement already satisfied: six>=1.5 in c:\\users\\acer\\anaconda3\\lib\\site-packages (from python-dateutil>=2.7->matplotlib->wordcloud) (1.16.0)\n"
     ]
    }
   ],
   "source": [
    "# installation of Spacy - for 10x faster data cleaning with accuracy and scalability\n",
    "!pip install numpy==1.26.4\n",
    "!pip install spacy==3.7.4 --no-deps\n",
    "!python -m spacy download en_core_web_sm\n",
    "!pip install wordcloud"
   ]
  },
  {
   "cell_type": "markdown",
   "metadata": {
    "id": "JuLFIymAL58u"
   },
   "source": [
    "## Importing the necessary libraries"
   ]
  },
  {
   "cell_type": "code",
   "execution_count": 128,
   "metadata": {
    "id": "O-Q9pqrcJrFr"
   },
   "outputs": [],
   "source": [
    "import json \n",
    "import numpy as np\n",
    "import pandas as pd\n",
    "import re, nltk, spacy, string\n",
    "import joblib\n",
    "import en_core_web_sm\n",
    "nlp = en_core_web_sm.load()\n",
    "import seaborn as sns\n",
    "import matplotlib.pyplot as plt\n",
    "%matplotlib inline\n",
    "\n",
    "from plotly.offline import plot\n",
    "from tqdm import tqdm\n",
    "from wordcloud import WordCloud\n",
    "import plotly.graph_objects as go\n",
    "import plotly.express as px\n",
    "from sklearn.metrics import confusion_matrix\n",
    "\n",
    "from sklearn.feature_extraction.text import CountVectorizer, TfidfVectorizer\n",
    "from pprint import pprint\n",
    "from sklearn.model_selection import train_test_split\n",
    "from sklearn.linear_model import LogisticRegression\n",
    "from sklearn.tree import DecisionTreeClassifier\n",
    "from sklearn.ensemble import RandomForestClassifier\n",
    "from sklearn.metrics import classification_report, accuracy_score"
   ]
  },
  {
   "cell_type": "markdown",
   "metadata": {},
   "source": [
    "**Load Spacy**"
   ]
  },
  {
   "cell_type": "code",
   "execution_count": 116,
   "metadata": {},
   "outputs": [],
   "source": [
    "# Load the English language model\n",
    "nlp = spacy.load(\"en_core_web_sm\")"
   ]
  },
  {
   "cell_type": "markdown",
   "metadata": {
    "id": "KtRLCsNVJrFt"
   },
   "source": [
    "## Loading the data\n",
    "\n",
    "The data is in JSON format and we need to convert it to a dataframe."
   ]
  },
  {
   "cell_type": "code",
   "execution_count": 118,
   "metadata": {
    "id": "puVzIf_iJrFt"
   },
   "outputs": [
    {
     "name": "stdout",
     "output_type": "stream",
     "text": [
      "Data shape: (78313, 22)\n"
     ]
    },
    {
     "data": {
      "text/html": [
       "<div>\n",
       "<style scoped>\n",
       "    .dataframe tbody tr th:only-of-type {\n",
       "        vertical-align: middle;\n",
       "    }\n",
       "\n",
       "    .dataframe tbody tr th {\n",
       "        vertical-align: top;\n",
       "    }\n",
       "\n",
       "    .dataframe thead th {\n",
       "        text-align: right;\n",
       "    }\n",
       "</style>\n",
       "<table border=\"1\" class=\"dataframe\">\n",
       "  <thead>\n",
       "    <tr style=\"text-align: right;\">\n",
       "      <th></th>\n",
       "      <th>_index</th>\n",
       "      <th>_type</th>\n",
       "      <th>_id</th>\n",
       "      <th>_score</th>\n",
       "      <th>_source.tags</th>\n",
       "      <th>_source.zip_code</th>\n",
       "      <th>_source.complaint_id</th>\n",
       "      <th>_source.issue</th>\n",
       "      <th>_source.date_received</th>\n",
       "      <th>_source.state</th>\n",
       "      <th>...</th>\n",
       "      <th>_source.company_response</th>\n",
       "      <th>_source.company</th>\n",
       "      <th>_source.submitted_via</th>\n",
       "      <th>_source.date_sent_to_company</th>\n",
       "      <th>_source.company_public_response</th>\n",
       "      <th>_source.sub_product</th>\n",
       "      <th>_source.timely</th>\n",
       "      <th>_source.complaint_what_happened</th>\n",
       "      <th>_source.sub_issue</th>\n",
       "      <th>_source.consumer_consent_provided</th>\n",
       "    </tr>\n",
       "  </thead>\n",
       "  <tbody>\n",
       "    <tr>\n",
       "      <th>0</th>\n",
       "      <td>complaint-public-v2</td>\n",
       "      <td>complaint</td>\n",
       "      <td>3211475</td>\n",
       "      <td>0.0</td>\n",
       "      <td>None</td>\n",
       "      <td>90301</td>\n",
       "      <td>3211475</td>\n",
       "      <td>Attempts to collect debt not owed</td>\n",
       "      <td>2019-04-13T12:00:00-05:00</td>\n",
       "      <td>CA</td>\n",
       "      <td>...</td>\n",
       "      <td>Closed with explanation</td>\n",
       "      <td>JPMORGAN CHASE &amp; CO.</td>\n",
       "      <td>Web</td>\n",
       "      <td>2019-04-13T12:00:00-05:00</td>\n",
       "      <td>None</td>\n",
       "      <td>Credit card debt</td>\n",
       "      <td>Yes</td>\n",
       "      <td></td>\n",
       "      <td>Debt is not yours</td>\n",
       "      <td>Consent not provided</td>\n",
       "    </tr>\n",
       "    <tr>\n",
       "      <th>1</th>\n",
       "      <td>complaint-public-v2</td>\n",
       "      <td>complaint</td>\n",
       "      <td>3229299</td>\n",
       "      <td>0.0</td>\n",
       "      <td>Servicemember</td>\n",
       "      <td>319XX</td>\n",
       "      <td>3229299</td>\n",
       "      <td>Written notification about debt</td>\n",
       "      <td>2019-05-01T12:00:00-05:00</td>\n",
       "      <td>GA</td>\n",
       "      <td>...</td>\n",
       "      <td>Closed with explanation</td>\n",
       "      <td>JPMORGAN CHASE &amp; CO.</td>\n",
       "      <td>Web</td>\n",
       "      <td>2019-05-01T12:00:00-05:00</td>\n",
       "      <td>None</td>\n",
       "      <td>Credit card debt</td>\n",
       "      <td>Yes</td>\n",
       "      <td>Good morning my name is XXXX XXXX and I apprec...</td>\n",
       "      <td>Didn't receive enough information to verify debt</td>\n",
       "      <td>Consent provided</td>\n",
       "    </tr>\n",
       "    <tr>\n",
       "      <th>2</th>\n",
       "      <td>complaint-public-v2</td>\n",
       "      <td>complaint</td>\n",
       "      <td>3199379</td>\n",
       "      <td>0.0</td>\n",
       "      <td>None</td>\n",
       "      <td>77069</td>\n",
       "      <td>3199379</td>\n",
       "      <td>Other features, terms, or problems</td>\n",
       "      <td>2019-04-02T12:00:00-05:00</td>\n",
       "      <td>TX</td>\n",
       "      <td>...</td>\n",
       "      <td>Closed with explanation</td>\n",
       "      <td>JPMORGAN CHASE &amp; CO.</td>\n",
       "      <td>Web</td>\n",
       "      <td>2019-04-02T12:00:00-05:00</td>\n",
       "      <td>None</td>\n",
       "      <td>General-purpose credit card or charge card</td>\n",
       "      <td>Yes</td>\n",
       "      <td>I upgraded my XXXX XXXX card in XX/XX/2018 and...</td>\n",
       "      <td>Problem with rewards from credit card</td>\n",
       "      <td>Consent provided</td>\n",
       "    </tr>\n",
       "    <tr>\n",
       "      <th>3</th>\n",
       "      <td>complaint-public-v2</td>\n",
       "      <td>complaint</td>\n",
       "      <td>2673060</td>\n",
       "      <td>0.0</td>\n",
       "      <td>None</td>\n",
       "      <td>48066</td>\n",
       "      <td>2673060</td>\n",
       "      <td>Trouble during payment process</td>\n",
       "      <td>2017-09-13T12:00:00-05:00</td>\n",
       "      <td>MI</td>\n",
       "      <td>...</td>\n",
       "      <td>Closed with explanation</td>\n",
       "      <td>JPMORGAN CHASE &amp; CO.</td>\n",
       "      <td>Web</td>\n",
       "      <td>2017-09-14T12:00:00-05:00</td>\n",
       "      <td>None</td>\n",
       "      <td>Conventional home mortgage</td>\n",
       "      <td>Yes</td>\n",
       "      <td></td>\n",
       "      <td>None</td>\n",
       "      <td>Consent not provided</td>\n",
       "    </tr>\n",
       "    <tr>\n",
       "      <th>4</th>\n",
       "      <td>complaint-public-v2</td>\n",
       "      <td>complaint</td>\n",
       "      <td>3203545</td>\n",
       "      <td>0.0</td>\n",
       "      <td>None</td>\n",
       "      <td>10473</td>\n",
       "      <td>3203545</td>\n",
       "      <td>Fees or interest</td>\n",
       "      <td>2019-04-05T12:00:00-05:00</td>\n",
       "      <td>NY</td>\n",
       "      <td>...</td>\n",
       "      <td>Closed with explanation</td>\n",
       "      <td>JPMORGAN CHASE &amp; CO.</td>\n",
       "      <td>Referral</td>\n",
       "      <td>2019-04-05T12:00:00-05:00</td>\n",
       "      <td>None</td>\n",
       "      <td>General-purpose credit card or charge card</td>\n",
       "      <td>Yes</td>\n",
       "      <td></td>\n",
       "      <td>Charged too much interest</td>\n",
       "      <td>N/A</td>\n",
       "    </tr>\n",
       "  </tbody>\n",
       "</table>\n",
       "<p>5 rows × 22 columns</p>\n",
       "</div>"
      ],
      "text/plain": [
       "                _index      _type      _id  _score   _source.tags  \\\n",
       "0  complaint-public-v2  complaint  3211475     0.0           None   \n",
       "1  complaint-public-v2  complaint  3229299     0.0  Servicemember   \n",
       "2  complaint-public-v2  complaint  3199379     0.0           None   \n",
       "3  complaint-public-v2  complaint  2673060     0.0           None   \n",
       "4  complaint-public-v2  complaint  3203545     0.0           None   \n",
       "\n",
       "  _source.zip_code _source.complaint_id                       _source.issue  \\\n",
       "0            90301              3211475   Attempts to collect debt not owed   \n",
       "1            319XX              3229299     Written notification about debt   \n",
       "2            77069              3199379  Other features, terms, or problems   \n",
       "3            48066              2673060      Trouble during payment process   \n",
       "4            10473              3203545                    Fees or interest   \n",
       "\n",
       "       _source.date_received _source.state  ... _source.company_response  \\\n",
       "0  2019-04-13T12:00:00-05:00            CA  ...  Closed with explanation   \n",
       "1  2019-05-01T12:00:00-05:00            GA  ...  Closed with explanation   \n",
       "2  2019-04-02T12:00:00-05:00            TX  ...  Closed with explanation   \n",
       "3  2017-09-13T12:00:00-05:00            MI  ...  Closed with explanation   \n",
       "4  2019-04-05T12:00:00-05:00            NY  ...  Closed with explanation   \n",
       "\n",
       "        _source.company _source.submitted_via _source.date_sent_to_company  \\\n",
       "0  JPMORGAN CHASE & CO.                   Web    2019-04-13T12:00:00-05:00   \n",
       "1  JPMORGAN CHASE & CO.                   Web    2019-05-01T12:00:00-05:00   \n",
       "2  JPMORGAN CHASE & CO.                   Web    2019-04-02T12:00:00-05:00   \n",
       "3  JPMORGAN CHASE & CO.                   Web    2017-09-14T12:00:00-05:00   \n",
       "4  JPMORGAN CHASE & CO.              Referral    2019-04-05T12:00:00-05:00   \n",
       "\n",
       "  _source.company_public_response                         _source.sub_product  \\\n",
       "0                            None                            Credit card debt   \n",
       "1                            None                            Credit card debt   \n",
       "2                            None  General-purpose credit card or charge card   \n",
       "3                            None                  Conventional home mortgage   \n",
       "4                            None  General-purpose credit card or charge card   \n",
       "\n",
       "  _source.timely                    _source.complaint_what_happened  \\\n",
       "0            Yes                                                      \n",
       "1            Yes  Good morning my name is XXXX XXXX and I apprec...   \n",
       "2            Yes  I upgraded my XXXX XXXX card in XX/XX/2018 and...   \n",
       "3            Yes                                                      \n",
       "4            Yes                                                      \n",
       "\n",
       "                                  _source.sub_issue  \\\n",
       "0                                 Debt is not yours   \n",
       "1  Didn't receive enough information to verify debt   \n",
       "2             Problem with rewards from credit card   \n",
       "3                                              None   \n",
       "4                         Charged too much interest   \n",
       "\n",
       "  _source.consumer_consent_provided  \n",
       "0              Consent not provided  \n",
       "1                  Consent provided  \n",
       "2                  Consent provided  \n",
       "3              Consent not provided  \n",
       "4                               N/A  \n",
       "\n",
       "[5 rows x 22 columns]"
      ]
     },
     "execution_count": 118,
     "metadata": {},
     "output_type": "execute_result"
    }
   ],
   "source": [
    "# Opening JSON file \n",
    "f = open(\"complaints-2021-05-14_08_16.json\", \"r\")\n",
    "\n",
    "# returns JSON object as a dictionary \n",
    "data = json.load(f)\n",
    "df = pd.json_normalize(data)\n",
    "\n",
    "# Display shape and first few rows\n",
    "print(\"Data shape:\", df.shape)\n",
    "df.head()"
   ]
  },
  {
   "cell_type": "markdown",
   "metadata": {
    "id": "_xYpH-sAJrFu"
   },
   "source": [
    "## Data preparation"
   ]
  },
  {
   "cell_type": "code",
   "execution_count": 9,
   "metadata": {
    "id": "Lf8ufHH5JrFu"
   },
   "outputs": [
    {
     "name": "stdout",
     "output_type": "stream",
     "text": [
      "<class 'pandas.core.frame.DataFrame'>\n",
      "RangeIndex: 78313 entries, 0 to 78312\n",
      "Data columns (total 22 columns):\n",
      " #   Column                             Non-Null Count  Dtype  \n",
      "---  ------                             --------------  -----  \n",
      " 0   _index                             78313 non-null  object \n",
      " 1   _type                              78313 non-null  object \n",
      " 2   _id                                78313 non-null  object \n",
      " 3   _score                             78313 non-null  float64\n",
      " 4   _source.tags                       10900 non-null  object \n",
      " 5   _source.zip_code                   71556 non-null  object \n",
      " 6   _source.complaint_id               78313 non-null  object \n",
      " 7   _source.issue                      78313 non-null  object \n",
      " 8   _source.date_received              78313 non-null  object \n",
      " 9   _source.state                      76322 non-null  object \n",
      " 10  _source.consumer_disputed          78313 non-null  object \n",
      " 11  _source.product                    78313 non-null  object \n",
      " 12  _source.company_response           78313 non-null  object \n",
      " 13  _source.company                    78313 non-null  object \n",
      " 14  _source.submitted_via              78313 non-null  object \n",
      " 15  _source.date_sent_to_company       78313 non-null  object \n",
      " 16  _source.company_public_response    4 non-null      object \n",
      " 17  _source.sub_product                67742 non-null  object \n",
      " 18  _source.timely                     78313 non-null  object \n",
      " 19  _source.complaint_what_happened    78313 non-null  object \n",
      " 20  _source.sub_issue                  32016 non-null  object \n",
      " 21  _source.consumer_consent_provided  77305 non-null  object \n",
      "dtypes: float64(1), object(21)\n",
      "memory usage: 13.1+ MB\n",
      "None\n",
      "                _index      _type      _id  _score   _source.tags  \\\n",
      "0  complaint-public-v2  complaint  3211475     0.0           None   \n",
      "1  complaint-public-v2  complaint  3229299     0.0  Servicemember   \n",
      "2  complaint-public-v2  complaint  3199379     0.0           None   \n",
      "3  complaint-public-v2  complaint  2673060     0.0           None   \n",
      "4  complaint-public-v2  complaint  3203545     0.0           None   \n",
      "\n",
      "  _source.zip_code _source.complaint_id                       _source.issue  \\\n",
      "0            90301              3211475   Attempts to collect debt not owed   \n",
      "1            319XX              3229299     Written notification about debt   \n",
      "2            77069              3199379  Other features, terms, or problems   \n",
      "3            48066              2673060      Trouble during payment process   \n",
      "4            10473              3203545                    Fees or interest   \n",
      "\n",
      "       _source.date_received _source.state  ... _source.company_response  \\\n",
      "0  2019-04-13T12:00:00-05:00            CA  ...  Closed with explanation   \n",
      "1  2019-05-01T12:00:00-05:00            GA  ...  Closed with explanation   \n",
      "2  2019-04-02T12:00:00-05:00            TX  ...  Closed with explanation   \n",
      "3  2017-09-13T12:00:00-05:00            MI  ...  Closed with explanation   \n",
      "4  2019-04-05T12:00:00-05:00            NY  ...  Closed with explanation   \n",
      "\n",
      "        _source.company _source.submitted_via _source.date_sent_to_company  \\\n",
      "0  JPMORGAN CHASE & CO.                   Web    2019-04-13T12:00:00-05:00   \n",
      "1  JPMORGAN CHASE & CO.                   Web    2019-05-01T12:00:00-05:00   \n",
      "2  JPMORGAN CHASE & CO.                   Web    2019-04-02T12:00:00-05:00   \n",
      "3  JPMORGAN CHASE & CO.                   Web    2017-09-14T12:00:00-05:00   \n",
      "4  JPMORGAN CHASE & CO.              Referral    2019-04-05T12:00:00-05:00   \n",
      "\n",
      "  _source.company_public_response                         _source.sub_product  \\\n",
      "0                            None                            Credit card debt   \n",
      "1                            None                            Credit card debt   \n",
      "2                            None  General-purpose credit card or charge card   \n",
      "3                            None                  Conventional home mortgage   \n",
      "4                            None  General-purpose credit card or charge card   \n",
      "\n",
      "  _source.timely                    _source.complaint_what_happened  \\\n",
      "0            Yes                                                      \n",
      "1            Yes  Good morning my name is XXXX XXXX and I apprec...   \n",
      "2            Yes  I upgraded my XXXX XXXX card in XX/XX/2018 and...   \n",
      "3            Yes                                                      \n",
      "4            Yes                                                      \n",
      "\n",
      "                                  _source.sub_issue  \\\n",
      "0                                 Debt is not yours   \n",
      "1  Didn't receive enough information to verify debt   \n",
      "2             Problem with rewards from credit card   \n",
      "3                                              None   \n",
      "4                         Charged too much interest   \n",
      "\n",
      "  _source.consumer_consent_provided  \n",
      "0              Consent not provided  \n",
      "1                  Consent provided  \n",
      "2                  Consent provided  \n",
      "3              Consent not provided  \n",
      "4                               N/A  \n",
      "\n",
      "[5 rows x 22 columns]\n",
      "_index                                   0\n",
      "_type                                    0\n",
      "_id                                      0\n",
      "_score                                   0\n",
      "_source.tags                         67413\n",
      "_source.zip_code                      6757\n",
      "_source.complaint_id                     0\n",
      "_source.issue                            0\n",
      "_source.date_received                    0\n",
      "_source.state                         1991\n",
      "_source.consumer_disputed                0\n",
      "_source.product                          0\n",
      "_source.company_response                 0\n",
      "_source.company                          0\n",
      "_source.submitted_via                    0\n",
      "_source.date_sent_to_company             0\n",
      "_source.company_public_response      78309\n",
      "_source.sub_product                  10571\n",
      "_source.timely                           0\n",
      "_source.complaint_what_happened          0\n",
      "_source.sub_issue                    46297\n",
      "_source.consumer_consent_provided     1008\n",
      "dtype: int64\n",
      "        _score\n",
      "count  78313.0\n",
      "mean       0.0\n",
      "std        0.0\n",
      "min        0.0\n",
      "25%        0.0\n",
      "50%        0.0\n",
      "75%        0.0\n",
      "max        0.0\n"
     ]
    }
   ],
   "source": [
    "# Inspect the dataframe to understand the given data.\n",
    "\n",
    "# Check column names and types\n",
    "print(df.info())\n",
    "\n",
    "# Display first 5 rows\n",
    "print(df.head())\n",
    "\n",
    "# Check for missing values\n",
    "print(df.isnull().sum())\n",
    "\n",
    "# Display basic statistics for numeric columns\n",
    "print(df.describe())"
   ]
  },
  {
   "cell_type": "code",
   "execution_count": 11,
   "metadata": {
    "id": "Dwcty-wmJrFw"
   },
   "outputs": [
    {
     "name": "stdout",
     "output_type": "stream",
     "text": [
      "['_index', '_type', '_id', '_score', '_source.tags', '_source.zip_code', '_source.complaint_id', '_source.issue', '_source.date_received', '_source.state', '_source.consumer_disputed', '_source.product', '_source.company_response', '_source.company', '_source.submitted_via', '_source.date_sent_to_company', '_source.company_public_response', '_source.sub_product', '_source.timely', '_source.complaint_what_happened', '_source.sub_issue', '_source.consumer_consent_provided']\n"
     ]
    }
   ],
   "source": [
    "# Print the column names\n",
    "print(df.columns.tolist())"
   ]
  },
  {
   "cell_type": "code",
   "execution_count": 13,
   "metadata": {
    "id": "FYCtKXD1JrFw"
   },
   "outputs": [
    {
     "name": "stdout",
     "output_type": "stream",
     "text": [
      "['index', 'type', 'id', 'score', 'tags', 'zip_code', 'complaint_id', 'issue', 'date_received', 'state', 'consumer_disputed', 'product', 'company_response', 'company', 'submitted_via', 'date_sent_to_company', 'company_public_response', 'sub_product', 'timely', 'complaint_what_happened', 'sub_issue', 'consumer_consent_provided']\n"
     ]
    }
   ],
   "source": [
    "# Assign new column names\n",
    "df.columns = [\n",
    "    'index', 'type', 'id', 'score', 'tags', 'zip_code', 'complaint_id', \n",
    "    'issue', 'date_received', 'state', 'consumer_disputed', 'product', \n",
    "    'company_response', 'company', 'submitted_via', 'date_sent_to_company', \n",
    "    'company_public_response', 'sub_product', 'timely', \n",
    "    'complaint_what_happened', 'sub_issue', 'consumer_consent_provided'\n",
    "]\n",
    "\n",
    "# Verify the new column names\n",
    "print(df.columns.tolist())"
   ]
  },
  {
   "cell_type": "code",
   "execution_count": 15,
   "metadata": {
    "id": "grQUPFL5JrFx"
   },
   "outputs": [
    {
     "data": {
      "text/plain": [
       "57241"
      ]
     },
     "execution_count": 15,
     "metadata": {},
     "output_type": "execute_result"
    }
   ],
   "source": [
    "#Assign nan in place of blanks in the complaints column\n",
    "\n",
    "df['complaint_what_happened'] = df['complaint_what_happened'].replace('', np.nan)\n",
    "\n",
    "# Verify changes\n",
    "df['complaint_what_happened'].isna().sum()"
   ]
  },
  {
   "cell_type": "code",
   "execution_count": 17,
   "metadata": {
    "id": "Jfxd8VSmJrFy"
   },
   "outputs": [
    {
     "data": {
      "text/plain": [
       "(21072, 22)"
      ]
     },
     "execution_count": 17,
     "metadata": {},
     "output_type": "execute_result"
    }
   ],
   "source": [
    "#Remove all rows where complaints column is nan\n",
    "df = df.dropna(subset=['complaint_what_happened'])\n",
    "\n",
    "# Verify the new shape\n",
    "df.shape"
   ]
  },
  {
   "cell_type": "markdown",
   "metadata": {
    "id": "L944HZpsJrFy"
   },
   "source": [
    "## Prepare the text for topic modeling\n",
    "\n",
    "Once you have removed all the blank complaints, you need to:\n",
    "\n",
    "* Make the text lowercase\n",
    "* Remove text in square brackets\n",
    "* Remove punctuation\n",
    "* Remove words containing numbers\n",
    "\n",
    "\n",
    "Once you have done these cleaning operations you need to perform the following:\n",
    "* Lemmatize the texts\n",
    "* Extract the POS tags of the lemmatized text and remove all the words which have tags other than NN[tag == \"NN\"].\n"
   ]
  },
  {
   "cell_type": "code",
   "execution_count": 19,
   "metadata": {
    "id": "qm7SjjSkJrFz"
   },
   "outputs": [],
   "source": [
    "# Write your function here to clean the text and remove all the unnecessary elements.\n",
    "\n",
    "def clean_text(text):\n",
    "    # Make text lowercase\n",
    "    text = text.lower()\n",
    "    \n",
    "    # Remove text in square brackets\n",
    "    text = re.sub(r'\\[.*?\\]', '', text)\n",
    "    \n",
    "    # Remove punctuation\n",
    "    text = text.translate(str.maketrans('', '', string.punctuation))\n",
    "    \n",
    "    # Remove words containing numbers\n",
    "    text = re.sub(r'\\w*\\d\\w*', '', text)\n",
    "    \n",
    "    return text"
   ]
  },
  {
   "cell_type": "code",
   "execution_count": 21,
   "metadata": {
    "id": "zgOu8t8HJrFz"
   },
   "outputs": [],
   "source": [
    "#Write your function to Lemmatize the texts\n",
    "\n",
    "def lemmatize_text(text):\n",
    "    doc = nlp(text)\n",
    "    lemmatized = [token.lemma_ for token in doc]\n",
    "    return ' '.join(lemmatized)"
   ]
  },
  {
   "cell_type": "code",
   "execution_count": 23,
   "metadata": {
    "id": "uXnN7aa_JrF0"
   },
   "outputs": [
    {
     "name": "stderr",
     "output_type": "stream",
     "text": [
      "100%|████████████████████████████████████████████████████████████████████████████| 21072/21072 [05:58<00:00, 58.77it/s]\n"
     ]
    },
    {
     "data": {
      "text/html": [
       "<div>\n",
       "<style scoped>\n",
       "    .dataframe tbody tr th:only-of-type {\n",
       "        vertical-align: middle;\n",
       "    }\n",
       "\n",
       "    .dataframe tbody tr th {\n",
       "        vertical-align: top;\n",
       "    }\n",
       "\n",
       "    .dataframe thead th {\n",
       "        text-align: right;\n",
       "    }\n",
       "</style>\n",
       "<table border=\"1\" class=\"dataframe\">\n",
       "  <thead>\n",
       "    <tr style=\"text-align: right;\">\n",
       "      <th></th>\n",
       "      <th>complaints</th>\n",
       "      <th>lemmatized_complaints</th>\n",
       "    </tr>\n",
       "  </thead>\n",
       "  <tbody>\n",
       "    <tr>\n",
       "      <th>1</th>\n",
       "      <td>Good morning my name is XXXX XXXX and I apprec...</td>\n",
       "      <td>good morning my name be XXXX XXXX and I apprec...</td>\n",
       "    </tr>\n",
       "    <tr>\n",
       "      <th>2</th>\n",
       "      <td>I upgraded my XXXX XXXX card in XX/XX/2018 and...</td>\n",
       "      <td>I upgrade my xxxx xxxx card in XX and be tell ...</td>\n",
       "    </tr>\n",
       "    <tr>\n",
       "      <th>10</th>\n",
       "      <td>Chase Card was reported on XX/XX/2019. However...</td>\n",
       "      <td>Chase Card be report on XX however fraudulent ...</td>\n",
       "    </tr>\n",
       "    <tr>\n",
       "      <th>11</th>\n",
       "      <td>On XX/XX/2018, while trying to book a XXXX  XX...</td>\n",
       "      <td>on XX while try to book a XXXX xxxx ticket I c...</td>\n",
       "    </tr>\n",
       "    <tr>\n",
       "      <th>14</th>\n",
       "      <td>my grand son give me check for {$1600.00} i de...</td>\n",
       "      <td>my grand son give I check for I deposit it int...</td>\n",
       "    </tr>\n",
       "  </tbody>\n",
       "</table>\n",
       "</div>"
      ],
      "text/plain": [
       "                                           complaints  \\\n",
       "1   Good morning my name is XXXX XXXX and I apprec...   \n",
       "2   I upgraded my XXXX XXXX card in XX/XX/2018 and...   \n",
       "10  Chase Card was reported on XX/XX/2019. However...   \n",
       "11  On XX/XX/2018, while trying to book a XXXX  XX...   \n",
       "14  my grand son give me check for {$1600.00} i de...   \n",
       "\n",
       "                                lemmatized_complaints  \n",
       "1   good morning my name be XXXX XXXX and I apprec...  \n",
       "2   I upgrade my xxxx xxxx card in XX and be tell ...  \n",
       "10  Chase Card be report on XX however fraudulent ...  \n",
       "11  on XX while try to book a XXXX xxxx ticket I c...  \n",
       "14  my grand son give I check for I deposit it int...  "
      ]
     },
     "execution_count": 23,
     "metadata": {},
     "output_type": "execute_result"
    }
   ],
   "source": [
    "#Create a dataframe('df_clean') that will have only the complaints and the lemmatized complaints\n",
    "\n",
    "df_clean = pd.DataFrame()\n",
    "df_clean['complaints'] = df['complaint_what_happened']\n",
    "\n",
    "texts = df_clean['complaints'].fillna(\"\").tolist()\n",
    "lemmatized_texts = []\n",
    "\n",
    "# Use spaCy's nlp.pipe with tqdm to show progress\n",
    "for doc in tqdm(nlp.pipe(texts, batch_size=1000, disable=[\"parser\", \"ner\"]), total=len(texts)):\n",
    "    lemmas = [token.lemma_ for token in doc if token.is_alpha]\n",
    "    lemmatized_texts.append(\" \".join(lemmas))\n",
    "\n",
    "df_clean['lemmatized_complaints'] = lemmatized_texts\n",
    "\n",
    "# Display the first few rows to verify\n",
    "df_clean.head()"
   ]
  },
  {
   "cell_type": "code",
   "execution_count": 25,
   "metadata": {
    "id": "nOiDVvEIJrF0"
   },
   "outputs": [
    {
     "data": {
      "text/html": [
       "<div>\n",
       "<style scoped>\n",
       "    .dataframe tbody tr th:only-of-type {\n",
       "        vertical-align: middle;\n",
       "    }\n",
       "\n",
       "    .dataframe tbody tr th {\n",
       "        vertical-align: top;\n",
       "    }\n",
       "\n",
       "    .dataframe thead th {\n",
       "        text-align: right;\n",
       "    }\n",
       "</style>\n",
       "<table border=\"1\" class=\"dataframe\">\n",
       "  <thead>\n",
       "    <tr style=\"text-align: right;\">\n",
       "      <th></th>\n",
       "      <th>complaints</th>\n",
       "      <th>lemmatized_complaints</th>\n",
       "    </tr>\n",
       "  </thead>\n",
       "  <tbody>\n",
       "    <tr>\n",
       "      <th>1</th>\n",
       "      <td>Good morning my name is XXXX XXXX and I apprec...</td>\n",
       "      <td>good morning my name be XXXX XXXX and I apprec...</td>\n",
       "    </tr>\n",
       "    <tr>\n",
       "      <th>2</th>\n",
       "      <td>I upgraded my XXXX XXXX card in XX/XX/2018 and...</td>\n",
       "      <td>I upgrade my xxxx xxxx card in XX and be tell ...</td>\n",
       "    </tr>\n",
       "    <tr>\n",
       "      <th>10</th>\n",
       "      <td>Chase Card was reported on XX/XX/2019. However...</td>\n",
       "      <td>Chase Card be report on XX however fraudulent ...</td>\n",
       "    </tr>\n",
       "    <tr>\n",
       "      <th>11</th>\n",
       "      <td>On XX/XX/2018, while trying to book a XXXX  XX...</td>\n",
       "      <td>on XX while try to book a XXXX xxxx ticket I c...</td>\n",
       "    </tr>\n",
       "    <tr>\n",
       "      <th>14</th>\n",
       "      <td>my grand son give me check for {$1600.00} i de...</td>\n",
       "      <td>my grand son give I check for I deposit it int...</td>\n",
       "    </tr>\n",
       "    <tr>\n",
       "      <th>...</th>\n",
       "      <td>...</td>\n",
       "      <td>...</td>\n",
       "    </tr>\n",
       "    <tr>\n",
       "      <th>78303</th>\n",
       "      <td>After being a Chase Card customer for well ove...</td>\n",
       "      <td>after be a Chase Card customer for well over a...</td>\n",
       "    </tr>\n",
       "    <tr>\n",
       "      <th>78309</th>\n",
       "      <td>On Wednesday, XX/XX/XXXX I called Chas, my XXX...</td>\n",
       "      <td>on Wednesday XX XX XXXX I call Chas my xxxx xx...</td>\n",
       "    </tr>\n",
       "    <tr>\n",
       "      <th>78310</th>\n",
       "      <td>I am not familiar with XXXX pay and did not un...</td>\n",
       "      <td>I be not familiar with xxxx pay and do not und...</td>\n",
       "    </tr>\n",
       "    <tr>\n",
       "      <th>78311</th>\n",
       "      <td>I have had flawless credit for 30 yrs. I've ha...</td>\n",
       "      <td>I have have flawless credit for yrs I have Cha...</td>\n",
       "    </tr>\n",
       "    <tr>\n",
       "      <th>78312</th>\n",
       "      <td>Roughly 10+ years ago I closed out my accounts...</td>\n",
       "      <td>roughly year ago I close out my account with J...</td>\n",
       "    </tr>\n",
       "  </tbody>\n",
       "</table>\n",
       "<p>21072 rows × 2 columns</p>\n",
       "</div>"
      ],
      "text/plain": [
       "                                              complaints  \\\n",
       "1      Good morning my name is XXXX XXXX and I apprec...   \n",
       "2      I upgraded my XXXX XXXX card in XX/XX/2018 and...   \n",
       "10     Chase Card was reported on XX/XX/2019. However...   \n",
       "11     On XX/XX/2018, while trying to book a XXXX  XX...   \n",
       "14     my grand son give me check for {$1600.00} i de...   \n",
       "...                                                  ...   \n",
       "78303  After being a Chase Card customer for well ove...   \n",
       "78309  On Wednesday, XX/XX/XXXX I called Chas, my XXX...   \n",
       "78310  I am not familiar with XXXX pay and did not un...   \n",
       "78311  I have had flawless credit for 30 yrs. I've ha...   \n",
       "78312  Roughly 10+ years ago I closed out my accounts...   \n",
       "\n",
       "                                   lemmatized_complaints  \n",
       "1      good morning my name be XXXX XXXX and I apprec...  \n",
       "2      I upgrade my xxxx xxxx card in XX and be tell ...  \n",
       "10     Chase Card be report on XX however fraudulent ...  \n",
       "11     on XX while try to book a XXXX xxxx ticket I c...  \n",
       "14     my grand son give I check for I deposit it int...  \n",
       "...                                                  ...  \n",
       "78303  after be a Chase Card customer for well over a...  \n",
       "78309  on Wednesday XX XX XXXX I call Chas my xxxx xx...  \n",
       "78310  I be not familiar with xxxx pay and do not und...  \n",
       "78311  I have have flawless credit for yrs I have Cha...  \n",
       "78312  roughly year ago I close out my account with J...  \n",
       "\n",
       "[21072 rows x 2 columns]"
      ]
     },
     "execution_count": 25,
     "metadata": {},
     "output_type": "execute_result"
    }
   ],
   "source": [
    "df_clean"
   ]
  },
  {
   "cell_type": "code",
   "execution_count": 27,
   "metadata": {
    "id": "Kk7fc4DuJrF1"
   },
   "outputs": [
    {
     "name": "stderr",
     "output_type": "stream",
     "text": [
      "100%|████████████████████████████████████████████████████████████████████████████| 21072/21072 [04:00<00:00, 87.61it/s]\n"
     ]
    }
   ],
   "source": [
    "tqdm.pandas()\n",
    "\n",
    "#Write your function to extract the POS tags \n",
    "\n",
    "def pos_tag(text):\n",
    "  # write your code here\n",
    "    if not isinstance(text, str) or text.strip() == \"\":\n",
    "        return \"\"\n",
    "    doc = nlp(text, disable=[\"parser\", \"ner\"])  # speed boost\n",
    "    nouns = [token.lemma_ for token in doc if token.pos_ == \"NOUN\"]  # Keep only nouns (NN)\n",
    "    return \" \".join(nouns)\n",
    "\n",
    "df_clean[\"complaint_POS_removed\"] = df_clean[\"lemmatized_complaints\"].progress_apply(pos_tag) #this column should contain lemmatized text with all the words removed which have tags other than NN[tag == \"NN\"]."
   ]
  },
  {
   "cell_type": "code",
   "execution_count": 29,
   "metadata": {
    "id": "AjxfchvFJrF2"
   },
   "outputs": [
    {
     "data": {
      "text/html": [
       "<div>\n",
       "<style scoped>\n",
       "    .dataframe tbody tr th:only-of-type {\n",
       "        vertical-align: middle;\n",
       "    }\n",
       "\n",
       "    .dataframe tbody tr th {\n",
       "        vertical-align: top;\n",
       "    }\n",
       "\n",
       "    .dataframe thead th {\n",
       "        text-align: right;\n",
       "    }\n",
       "</style>\n",
       "<table border=\"1\" class=\"dataframe\">\n",
       "  <thead>\n",
       "    <tr style=\"text-align: right;\">\n",
       "      <th></th>\n",
       "      <th>complaints</th>\n",
       "      <th>lemmatized_complaints</th>\n",
       "      <th>complaint_POS_removed</th>\n",
       "    </tr>\n",
       "  </thead>\n",
       "  <tbody>\n",
       "    <tr>\n",
       "      <th>1</th>\n",
       "      <td>Good morning my name is XXXX XXXX and I apprec...</td>\n",
       "      <td>good morning my name be XXXX XXXX and I apprec...</td>\n",
       "      <td>morning name stop cardmember service debt veri...</td>\n",
       "    </tr>\n",
       "    <tr>\n",
       "      <th>2</th>\n",
       "      <td>I upgraded my XXXX XXXX card in XX/XX/2018 and...</td>\n",
       "      <td>I upgrade my xxxx xxxx card in XX and be tell ...</td>\n",
       "      <td>xxxx card agent anniversary date agent informa...</td>\n",
       "    </tr>\n",
       "    <tr>\n",
       "      <th>10</th>\n",
       "      <td>Chase Card was reported on XX/XX/2019. However...</td>\n",
       "      <td>Chase Card be report on XX however fraudulent ...</td>\n",
       "      <td>report application identity consent service cr...</td>\n",
       "    </tr>\n",
       "    <tr>\n",
       "      <th>11</th>\n",
       "      <td>On XX/XX/2018, while trying to book a XXXX  XX...</td>\n",
       "      <td>on XX while try to book a XXXX xxxx ticket I c...</td>\n",
       "      <td>xxxx xxxx ticket offer ticket reward card info...</td>\n",
       "    </tr>\n",
       "    <tr>\n",
       "      <th>14</th>\n",
       "      <td>my grand son give me check for {$1600.00} i de...</td>\n",
       "      <td>my grand son give I check for I deposit it int...</td>\n",
       "      <td>son chase account fund chase bank account mone...</td>\n",
       "    </tr>\n",
       "    <tr>\n",
       "      <th>...</th>\n",
       "      <td>...</td>\n",
       "      <td>...</td>\n",
       "      <td>...</td>\n",
       "    </tr>\n",
       "    <tr>\n",
       "      <th>78303</th>\n",
       "      <td>After being a Chase Card customer for well ove...</td>\n",
       "      <td>after be a Chase Card customer for well over a...</td>\n",
       "      <td>customer decade solicitation credit card bonus...</td>\n",
       "    </tr>\n",
       "    <tr>\n",
       "      <th>78309</th>\n",
       "      <td>On Wednesday, XX/XX/XXXX I called Chas, my XXX...</td>\n",
       "      <td>on Wednesday XX XX XXXX I call Chas my xxxx xx...</td>\n",
       "      <td>xxxx xxxx provider claim purchase protection b...</td>\n",
       "    </tr>\n",
       "    <tr>\n",
       "      <th>78310</th>\n",
       "      <td>I am not familiar with XXXX pay and did not un...</td>\n",
       "      <td>I be not familiar with xxxx pay and do not und...</td>\n",
       "      <td>xxxx risk consumer bank app year banking merch...</td>\n",
       "    </tr>\n",
       "    <tr>\n",
       "      <th>78311</th>\n",
       "      <td>I have had flawless credit for 30 yrs. I've ha...</td>\n",
       "      <td>I have have flawless credit for yrs I have Cha...</td>\n",
       "      <td>credit yrs credit card problem balance transfe...</td>\n",
       "    </tr>\n",
       "    <tr>\n",
       "      <th>78312</th>\n",
       "      <td>Roughly 10+ years ago I closed out my accounts...</td>\n",
       "      <td>roughly year ago I close out my account with J...</td>\n",
       "      <td>year account order line credit account payment...</td>\n",
       "    </tr>\n",
       "  </tbody>\n",
       "</table>\n",
       "<p>21072 rows × 3 columns</p>\n",
       "</div>"
      ],
      "text/plain": [
       "                                              complaints  \\\n",
       "1      Good morning my name is XXXX XXXX and I apprec...   \n",
       "2      I upgraded my XXXX XXXX card in XX/XX/2018 and...   \n",
       "10     Chase Card was reported on XX/XX/2019. However...   \n",
       "11     On XX/XX/2018, while trying to book a XXXX  XX...   \n",
       "14     my grand son give me check for {$1600.00} i de...   \n",
       "...                                                  ...   \n",
       "78303  After being a Chase Card customer for well ove...   \n",
       "78309  On Wednesday, XX/XX/XXXX I called Chas, my XXX...   \n",
       "78310  I am not familiar with XXXX pay and did not un...   \n",
       "78311  I have had flawless credit for 30 yrs. I've ha...   \n",
       "78312  Roughly 10+ years ago I closed out my accounts...   \n",
       "\n",
       "                                   lemmatized_complaints  \\\n",
       "1      good morning my name be XXXX XXXX and I apprec...   \n",
       "2      I upgrade my xxxx xxxx card in XX and be tell ...   \n",
       "10     Chase Card be report on XX however fraudulent ...   \n",
       "11     on XX while try to book a XXXX xxxx ticket I c...   \n",
       "14     my grand son give I check for I deposit it int...   \n",
       "...                                                  ...   \n",
       "78303  after be a Chase Card customer for well over a...   \n",
       "78309  on Wednesday XX XX XXXX I call Chas my xxxx xx...   \n",
       "78310  I be not familiar with xxxx pay and do not und...   \n",
       "78311  I have have flawless credit for yrs I have Cha...   \n",
       "78312  roughly year ago I close out my account with J...   \n",
       "\n",
       "                                   complaint_POS_removed  \n",
       "1      morning name stop cardmember service debt veri...  \n",
       "2      xxxx card agent anniversary date agent informa...  \n",
       "10     report application identity consent service cr...  \n",
       "11     xxxx xxxx ticket offer ticket reward card info...  \n",
       "14     son chase account fund chase bank account mone...  \n",
       "...                                                  ...  \n",
       "78303  customer decade solicitation credit card bonus...  \n",
       "78309  xxxx xxxx provider claim purchase protection b...  \n",
       "78310  xxxx risk consumer bank app year banking merch...  \n",
       "78311  credit yrs credit card problem balance transfe...  \n",
       "78312  year account order line credit account payment...  \n",
       "\n",
       "[21072 rows x 3 columns]"
      ]
     },
     "execution_count": 29,
     "metadata": {},
     "output_type": "execute_result"
    }
   ],
   "source": [
    "#The clean dataframe should now contain the raw complaint, lemmatized complaint and the complaint after removing POS tags.\n",
    "df_clean"
   ]
  },
  {
   "cell_type": "markdown",
   "metadata": {
    "id": "_7Un1AElJrF2"
   },
   "source": [
    "## Exploratory data analysis to get familiar with the data.\n",
    "\n",
    "Write the code in this task to perform the following:\n",
    "\n",
    "*   Visualise the data according to the 'Complaint' character length\n",
    "*   Using a word cloud find the top 40 words by frequency among all the articles after processing the text\n",
    "*   Find the top unigrams,bigrams and trigrams by frequency among all the complaints after processing the text. ‘\n",
    "\n",
    "\n"
   ]
  },
  {
   "cell_type": "code",
   "execution_count": 31,
   "metadata": {
    "id": "q-zaqJF6JrF2"
   },
   "outputs": [
    {
     "data": {
      "image/png": "[encoded data removed]",
      "text/plain": [
       "<Figure size 1000x600 with 1 Axes>"
      ]
     },
     "metadata": {},
     "output_type": "display_data"
    }
   ],
   "source": [
    "# Write your code here to visualise the data according to the 'Complaint' character length\n",
    "\n",
    "# Create a new column for complaint character length\n",
    "df_clean['complaint_length'] = df_clean['complaints'].astype(str).apply(len)\n",
    "\n",
    "# Plot the distribution of complaint lengths\n",
    "plt.figure(figsize=(10,6))\n",
    "sns.histplot(df_clean['complaint_length'], bins=50, kde=True, color='teal')\n",
    "plt.title(\"Distribution of Complaint Character Lengths\")\n",
    "plt.xlabel(\"Number of Characters\")\n",
    "plt.ylabel(\"Frequency\")\n",
    "plt.show()"
   ]
  },
  {
   "cell_type": "markdown",
   "metadata": {
    "id": "T9jD_6SeJrF3"
   },
   "source": [
    "#### Find the top 40 words by frequency among all the articles after processing the text."
   ]
  },
  {
   "cell_type": "code",
   "execution_count": 33,
   "metadata": {
    "id": "QcfdvtfZJrF3"
   },
   "outputs": [
    {
     "data": {
      "image/png": "[encoded data removed]",
      "text/plain": [
       "<Figure size 1200x600 with 1 Axes>"
      ]
     },
     "metadata": {},
     "output_type": "display_data"
    }
   ],
   "source": [
    "# Using a word cloud find the top 40 words by frequency among all the articles after processing the text\n",
    "\n",
    "# Combine all the complaint text into one string\n",
    "all_words = \" \".join(df_clean['complaint_POS_removed'].dropna().astype(str))\n",
    "\n",
    "# Create the word cloud\n",
    "wordcloud = WordCloud(width=800, height=400, max_words=40, background_color='white', colormap='viridis').generate(all_words)\n",
    "\n",
    "# Display the word cloud\n",
    "plt.figure(figsize=(12,6))\n",
    "plt.imshow(wordcloud, interpolation='bilinear')\n",
    "plt.axis('off')\n",
    "plt.title(\"Top 40 Words by Frequency\")\n",
    "plt.show()"
   ]
  },
  {
   "cell_type": "code",
   "execution_count": 35,
   "metadata": {
    "id": "OkSmc3UaJrF4"
   },
   "outputs": [],
   "source": [
    "# Removing -PRON- from the text corpus\n",
    "df_clean['Complaint_clean'] = df_clean['complaint_POS_removed'].str.replace('-PRON-', '', regex=False)"
   ]
  },
  {
   "cell_type": "markdown",
   "metadata": {
    "id": "5DfCSbbmJrF4"
   },
   "source": [
    "#### Find the top unigrams,bigrams and trigrams by frequency among all the complaints after processing the text."
   ]
  },
  {
   "cell_type": "code",
   "execution_count": 37,
   "metadata": {
    "id": "5mbk5DS5JrF4"
   },
   "outputs": [
    {
     "name": "stdout",
     "output_type": "stream",
     "text": [
      "           Unigram  Frequency\n",
      "11565         xxxx      84769\n",
      "77         account      46253\n",
      "2484        credit      30624\n",
      "1482          card      27718\n",
      "7394       payment      20909\n",
      "909           bank      17684\n",
      "10546         time      16042\n",
      "1669        charge      14150\n",
      "2655           day      13144\n",
      "6589         money      11934\n",
      "1708         check      11488\n",
      "6012          loan      10161\n",
      "5295   information       9584\n",
      "5895        letter       9473\n",
      "4024           fee       8627\n",
      "8694        report       8572\n",
      "6608         month       8527\n",
      "6919        number       8464\n",
      "11654         year       8408\n",
      "10722  transaction       8408\n",
      "887        balance       7614\n",
      "7569         phone       7537\n",
      "2601      customer       7478\n",
      "2023       company       7395\n",
      "9850         state       7020\n",
      "4406          fund       6964\n",
      "6645      mortgage       6949\n",
      "1808         claim       6837\n",
      "9328       service       6464\n",
      "5576         issue       6445\n"
     ]
    }
   ],
   "source": [
    "#Write your code here to find the top 30 unigram frequency among the complaints in the cleaned datafram(df_clean). \n",
    "\n",
    "# Use CountVectorizer for unigrams\n",
    "vectorizer_uni = CountVectorizer(ngram_range=(1,1), stop_words='english')\n",
    "X_uni = vectorizer_uni.fit_transform(df_clean['Complaint_clean'].dropna())\n",
    "\n",
    "# Sum up the counts of each unigram\n",
    "unigram_freq = X_uni.sum(axis=0).A1\n",
    "unigram_words = vectorizer_uni.get_feature_names_out()\n",
    "\n",
    "# Create a dataframe for top 30 unigrams\n",
    "unigram_df = pd.DataFrame({'Unigram': unigram_words, 'Frequency': unigram_freq})\n",
    "unigram_df = unigram_df.sort_values(by='Frequency', ascending=False).head(30)\n",
    "\n",
    "# Display the top 30 unigrams\n",
    "print(unigram_df)"
   ]
  },
  {
   "cell_type": "code",
   "execution_count": 39,
   "metadata": {
    "id": "YX7fedm1JrF8"
   },
   "outputs": [
    {
     "name": "stdout",
     "output_type": "stream",
     "text": [
      "       Unigram  Frequency\n",
      "11565     xxxx      84769\n",
      "77     account      46253\n",
      "2484    credit      30624\n",
      "1482      card      27718\n",
      "7394   payment      20909\n",
      "909       bank      17684\n",
      "10546     time      16042\n",
      "1669    charge      14150\n",
      "2655       day      13144\n",
      "6589     money      11934\n"
     ]
    }
   ],
   "source": [
    "#Print the top 10 words in the unigram frequency\n",
    "print(unigram_df.head(10))"
   ]
  },
  {
   "cell_type": "code",
   "execution_count": 41,
   "metadata": {
    "id": "aV7kD7w8JrF8"
   },
   "outputs": [
    {
     "name": "stdout",
     "output_type": "stream",
     "text": [
      "              Bigram  Frequency\n",
      "0          xxxx xxxx      20164\n",
      "1        credit card      11367\n",
      "2      credit report       3726\n",
      "3       account xxxx       2921\n",
      "4   customer service       2634\n",
      "5    account account       2611\n",
      "6            xx xxxx       2590\n",
      "7       xxxx account       2364\n",
      "8       bank account       2224\n",
      "9        xxxx credit       2119\n",
      "10        debit card       1967\n",
      "11           xxxx xx       1930\n",
      "12      xxxx payment       1910\n",
      "13     check account       1854\n",
      "14  checking account       1813\n",
      "15      payment xxxx       1680\n",
      "16      credit score       1648\n",
      "17      card account       1644\n",
      "18         card xxxx       1628\n",
      "19       number xxxx       1616\n",
      "20    account credit       1519\n",
      "21     money account       1367\n",
      "22         date xxxx       1335\n",
      "23   payment payment       1269\n",
      "24      phone number       1266\n",
      "25      business day       1265\n",
      "26         xxxx card       1227\n",
      "27    charge account       1150\n",
      "28         card card       1138\n",
      "29      account bank       1138\n"
     ]
    }
   ],
   "source": [
    "#Write your code here to find the top 30 bigram frequency among the complaints in the cleaned datafram(df_clean). \n",
    "\n",
    "# Initialize CountVectorizer for bigrams\n",
    "bigram_vectorizer = CountVectorizer(ngram_range=(2, 2), stop_words='english', max_features=30)\n",
    "\n",
    "# Fit and transform the complaint data\n",
    "bigram_matrix = bigram_vectorizer.fit_transform(df_clean['Complaint_clean'].dropna())\n",
    "\n",
    "# Sum up the counts of each bigram\n",
    "bigram_counts = bigram_matrix.sum(axis=0).A1\n",
    "bigram_vocab = bigram_vectorizer.get_feature_names_out()\n",
    "\n",
    "# Create a DataFrame for bigram frequencies\n",
    "bigram_df = pd.DataFrame({'Bigram': bigram_vocab, 'Frequency': bigram_counts})\n",
    "bigram_df = bigram_df.sort_values(by='Frequency', ascending=False).reset_index(drop=True)\n",
    "\n",
    "# Display the top 30 bigrams\n",
    "print(bigram_df.head(30))"
   ]
  },
  {
   "cell_type": "code",
   "execution_count": 43,
   "metadata": {
    "id": "NPnMNIpyJrF9"
   },
   "outputs": [
    {
     "name": "stdout",
     "output_type": "stream",
     "text": [
      "             Bigram  Frequency\n",
      "0         xxxx xxxx      20164\n",
      "1       credit card      11367\n",
      "2     credit report       3726\n",
      "3      account xxxx       2921\n",
      "4  customer service       2634\n",
      "5   account account       2611\n",
      "6           xx xxxx       2590\n",
      "7      xxxx account       2364\n",
      "8      bank account       2224\n",
      "9       xxxx credit       2119\n"
     ]
    }
   ],
   "source": [
    "#Print the top 10 words in the bigram frequency\n",
    "print(bigram_df.head(10))"
   ]
  },
  {
   "cell_type": "code",
   "execution_count": 47,
   "metadata": {
    "id": "Xkh7vtbtJrF-"
   },
   "outputs": [
    {
     "data": {
      "text/html": [
       "<div>\n",
       "<style scoped>\n",
       "    .dataframe tbody tr th:only-of-type {\n",
       "        vertical-align: middle;\n",
       "    }\n",
       "\n",
       "    .dataframe tbody tr th {\n",
       "        vertical-align: top;\n",
       "    }\n",
       "\n",
       "    .dataframe thead th {\n",
       "        text-align: right;\n",
       "    }\n",
       "</style>\n",
       "<table border=\"1\" class=\"dataframe\">\n",
       "  <thead>\n",
       "    <tr style=\"text-align: right;\">\n",
       "      <th></th>\n",
       "      <th>Trigram</th>\n",
       "      <th>Frequency</th>\n",
       "    </tr>\n",
       "  </thead>\n",
       "  <tbody>\n",
       "    <tr>\n",
       "      <th>0</th>\n",
       "      <td>xxxx xxxx xxxx</td>\n",
       "      <td>7139</td>\n",
       "    </tr>\n",
       "    <tr>\n",
       "      <th>1</th>\n",
       "      <td>xxxx xx xxxx</td>\n",
       "      <td>1548</td>\n",
       "    </tr>\n",
       "    <tr>\n",
       "      <th>2</th>\n",
       "      <td>xxxx credit card</td>\n",
       "      <td>1053</td>\n",
       "    </tr>\n",
       "    <tr>\n",
       "      <th>3</th>\n",
       "      <td>credit card account</td>\n",
       "      <td>1022</td>\n",
       "    </tr>\n",
       "    <tr>\n",
       "      <th>4</th>\n",
       "      <td>credit card company</td>\n",
       "      <td>890</td>\n",
       "    </tr>\n",
       "  </tbody>\n",
       "</table>\n",
       "</div>"
      ],
      "text/plain": [
       "               Trigram  Frequency\n",
       "0       xxxx xxxx xxxx       7139\n",
       "1         xxxx xx xxxx       1548\n",
       "2     xxxx credit card       1053\n",
       "3  credit card account       1022\n",
       "4  credit card company        890"
      ]
     },
     "execution_count": 47,
     "metadata": {},
     "output_type": "execute_result"
    }
   ],
   "source": [
    "#Write your code here to find the top 30 trigram frequency among the complaints in the cleaned datafram(df_clean). \n",
    "\n",
    "# Initialize CountVectorizer for trigrams\n",
    "trigram_vectorizer = CountVectorizer(ngram_range=(3, 3))\n",
    "trigram_matrix = trigram_vectorizer.fit_transform(df_clean['Complaint_clean'].dropna())\n",
    "\n",
    "# Sum up the counts for each trigram\n",
    "trigram_sum = trigram_matrix.sum(axis=0)\n",
    "\n",
    "# Map trigrams to their frequencies\n",
    "trigram_freq = [(word, trigram_sum[0, idx]) for word, idx in trigram_vectorizer.vocabulary_.items()]\n",
    "\n",
    "# Sort by frequency and get top 30\n",
    "trigram_freq = sorted(trigram_freq, key=lambda x: x[1], reverse=True)[:30]\n",
    "\n",
    "# Convert to DataFrame\n",
    "trigram_df = pd.DataFrame(trigram_freq, columns=['Trigram', 'Frequency'])\n",
    "trigram_df.head()"
   ]
  },
  {
   "cell_type": "code",
   "execution_count": 49,
   "metadata": {
    "id": "REcVxNfvJrF-"
   },
   "outputs": [
    {
     "data": {
      "text/html": [
       "<div>\n",
       "<style scoped>\n",
       "    .dataframe tbody tr th:only-of-type {\n",
       "        vertical-align: middle;\n",
       "    }\n",
       "\n",
       "    .dataframe tbody tr th {\n",
       "        vertical-align: top;\n",
       "    }\n",
       "\n",
       "    .dataframe thead th {\n",
       "        text-align: right;\n",
       "    }\n",
       "</style>\n",
       "<table border=\"1\" class=\"dataframe\">\n",
       "  <thead>\n",
       "    <tr style=\"text-align: right;\">\n",
       "      <th></th>\n",
       "      <th>Trigram</th>\n",
       "      <th>Frequency</th>\n",
       "    </tr>\n",
       "  </thead>\n",
       "  <tbody>\n",
       "    <tr>\n",
       "      <th>0</th>\n",
       "      <td>xxxx xxxx xxxx</td>\n",
       "      <td>7139</td>\n",
       "    </tr>\n",
       "    <tr>\n",
       "      <th>1</th>\n",
       "      <td>xxxx xx xxxx</td>\n",
       "      <td>1548</td>\n",
       "    </tr>\n",
       "    <tr>\n",
       "      <th>2</th>\n",
       "      <td>xxxx credit card</td>\n",
       "      <td>1053</td>\n",
       "    </tr>\n",
       "    <tr>\n",
       "      <th>3</th>\n",
       "      <td>credit card account</td>\n",
       "      <td>1022</td>\n",
       "    </tr>\n",
       "    <tr>\n",
       "      <th>4</th>\n",
       "      <td>credit card company</td>\n",
       "      <td>890</td>\n",
       "    </tr>\n",
       "    <tr>\n",
       "      <th>5</th>\n",
       "      <td>xx xxxx xx</td>\n",
       "      <td>604</td>\n",
       "    </tr>\n",
       "    <tr>\n",
       "      <th>6</th>\n",
       "      <td>credit card xxxx</td>\n",
       "      <td>572</td>\n",
       "    </tr>\n",
       "    <tr>\n",
       "      <th>7</th>\n",
       "      <td>xx xxxx xxxx</td>\n",
       "      <td>560</td>\n",
       "    </tr>\n",
       "    <tr>\n",
       "      <th>8</th>\n",
       "      <td>xxxx xxxx xx</td>\n",
       "      <td>489</td>\n",
       "    </tr>\n",
       "    <tr>\n",
       "      <th>9</th>\n",
       "      <td>credit card credit</td>\n",
       "      <td>481</td>\n",
       "    </tr>\n",
       "  </tbody>\n",
       "</table>\n",
       "</div>"
      ],
      "text/plain": [
       "               Trigram  Frequency\n",
       "0       xxxx xxxx xxxx       7139\n",
       "1         xxxx xx xxxx       1548\n",
       "2     xxxx credit card       1053\n",
       "3  credit card account       1022\n",
       "4  credit card company        890\n",
       "5           xx xxxx xx        604\n",
       "6     credit card xxxx        572\n",
       "7         xx xxxx xxxx        560\n",
       "8         xxxx xxxx xx        489\n",
       "9   credit card credit        481"
      ]
     },
     "execution_count": 49,
     "metadata": {},
     "output_type": "execute_result"
    }
   ],
   "source": [
    "#Print the top 10 words in the trigram frequency\n",
    "trigram_df.head(10)"
   ]
  },
  {
   "cell_type": "markdown",
   "metadata": {
    "id": "yUXzFji0JrF_"
   },
   "source": [
    "## The personal details of customer has been masked in the dataset with xxxx. Let's remove the masked text as this will be of no use for our analysis"
   ]
  },
  {
   "cell_type": "code",
   "execution_count": 180,
   "metadata": {
    "id": "wKda-a_IJrF_"
   },
   "outputs": [],
   "source": [
    "df_clean['Complaint_clean'] = df_clean['Complaint_clean'].str.replace(r'\\b[xX]{2,}\\b', '', regex=True)"
   ]
  },
  {
   "cell_type": "code",
   "execution_count": 53,
   "metadata": {
    "id": "9UIFk8fQJrF_"
   },
   "outputs": [
    {
     "data": {
      "text/html": [
       "<div>\n",
       "<style scoped>\n",
       "    .dataframe tbody tr th:only-of-type {\n",
       "        vertical-align: middle;\n",
       "    }\n",
       "\n",
       "    .dataframe tbody tr th {\n",
       "        vertical-align: top;\n",
       "    }\n",
       "\n",
       "    .dataframe thead th {\n",
       "        text-align: right;\n",
       "    }\n",
       "</style>\n",
       "<table border=\"1\" class=\"dataframe\">\n",
       "  <thead>\n",
       "    <tr style=\"text-align: right;\">\n",
       "      <th></th>\n",
       "      <th>complaints</th>\n",
       "      <th>lemmatized_complaints</th>\n",
       "      <th>complaint_POS_removed</th>\n",
       "      <th>complaint_length</th>\n",
       "      <th>Complaint_clean</th>\n",
       "    </tr>\n",
       "  </thead>\n",
       "  <tbody>\n",
       "    <tr>\n",
       "      <th>1</th>\n",
       "      <td>Good morning my name is XXXX XXXX and I apprec...</td>\n",
       "      <td>good morning my name be XXXX XXXX and I apprec...</td>\n",
       "      <td>morning name stop cardmember service debt veri...</td>\n",
       "      <td>486</td>\n",
       "      <td>morning name stop cardmember service debt veri...</td>\n",
       "    </tr>\n",
       "    <tr>\n",
       "      <th>2</th>\n",
       "      <td>I upgraded my XXXX XXXX card in XX/XX/2018 and...</td>\n",
       "      <td>I upgrade my xxxx xxxx card in XX and be tell ...</td>\n",
       "      <td>xxxx card agent anniversary date agent informa...</td>\n",
       "      <td>355</td>\n",
       "      <td>card agent anniversary date agent information...</td>\n",
       "    </tr>\n",
       "    <tr>\n",
       "      <th>10</th>\n",
       "      <td>Chase Card was reported on XX/XX/2019. However...</td>\n",
       "      <td>Chase Card be report on XX however fraudulent ...</td>\n",
       "      <td>report application identity consent service cr...</td>\n",
       "      <td>224</td>\n",
       "      <td>report application identity consent service cr...</td>\n",
       "    </tr>\n",
       "    <tr>\n",
       "      <th>11</th>\n",
       "      <td>On XX/XX/2018, while trying to book a XXXX  XX...</td>\n",
       "      <td>on XX while try to book a XXXX xxxx ticket I c...</td>\n",
       "      <td>xxxx xxxx ticket offer ticket reward card info...</td>\n",
       "      <td>1502</td>\n",
       "      <td>ticket offer ticket reward card information ...</td>\n",
       "    </tr>\n",
       "    <tr>\n",
       "      <th>14</th>\n",
       "      <td>my grand son give me check for {$1600.00} i de...</td>\n",
       "      <td>my grand son give I check for I deposit it int...</td>\n",
       "      <td>son chase account fund chase bank account mone...</td>\n",
       "      <td>477</td>\n",
       "      <td>son chase account fund chase bank account mone...</td>\n",
       "    </tr>\n",
       "    <tr>\n",
       "      <th>...</th>\n",
       "      <td>...</td>\n",
       "      <td>...</td>\n",
       "      <td>...</td>\n",
       "      <td>...</td>\n",
       "      <td>...</td>\n",
       "    </tr>\n",
       "    <tr>\n",
       "      <th>78303</th>\n",
       "      <td>After being a Chase Card customer for well ove...</td>\n",
       "      <td>after be a Chase Card customer for well over a...</td>\n",
       "      <td>customer decade solicitation credit card bonus...</td>\n",
       "      <td>679</td>\n",
       "      <td>customer decade solicitation credit card bonus...</td>\n",
       "    </tr>\n",
       "    <tr>\n",
       "      <th>78309</th>\n",
       "      <td>On Wednesday, XX/XX/XXXX I called Chas, my XXX...</td>\n",
       "      <td>on Wednesday XX XX XXXX I call Chas my xxxx xx...</td>\n",
       "      <td>xxxx xxxx provider claim purchase protection b...</td>\n",
       "      <td>2114</td>\n",
       "      <td>provider claim purchase protection benefit  ...</td>\n",
       "    </tr>\n",
       "    <tr>\n",
       "      <th>78310</th>\n",
       "      <td>I am not familiar with XXXX pay and did not un...</td>\n",
       "      <td>I be not familiar with xxxx pay and do not und...</td>\n",
       "      <td>xxxx risk consumer bank app year banking merch...</td>\n",
       "      <td>2319</td>\n",
       "      <td>risk consumer bank app year banking merchant ...</td>\n",
       "    </tr>\n",
       "    <tr>\n",
       "      <th>78311</th>\n",
       "      <td>I have had flawless credit for 30 yrs. I've ha...</td>\n",
       "      <td>I have have flawless credit for yrs I have Cha...</td>\n",
       "      <td>credit yrs credit card problem balance transfe...</td>\n",
       "      <td>2171</td>\n",
       "      <td>credit yrs credit card problem balance transfe...</td>\n",
       "    </tr>\n",
       "    <tr>\n",
       "      <th>78312</th>\n",
       "      <td>Roughly 10+ years ago I closed out my accounts...</td>\n",
       "      <td>roughly year ago I close out my account with J...</td>\n",
       "      <td>year account order line credit account payment...</td>\n",
       "      <td>794</td>\n",
       "      <td>year account order line credit account payment...</td>\n",
       "    </tr>\n",
       "  </tbody>\n",
       "</table>\n",
       "<p>21072 rows × 5 columns</p>\n",
       "</div>"
      ],
      "text/plain": [
       "                                              complaints  \\\n",
       "1      Good morning my name is XXXX XXXX and I apprec...   \n",
       "2      I upgraded my XXXX XXXX card in XX/XX/2018 and...   \n",
       "10     Chase Card was reported on XX/XX/2019. However...   \n",
       "11     On XX/XX/2018, while trying to book a XXXX  XX...   \n",
       "14     my grand son give me check for {$1600.00} i de...   \n",
       "...                                                  ...   \n",
       "78303  After being a Chase Card customer for well ove...   \n",
       "78309  On Wednesday, XX/XX/XXXX I called Chas, my XXX...   \n",
       "78310  I am not familiar with XXXX pay and did not un...   \n",
       "78311  I have had flawless credit for 30 yrs. I've ha...   \n",
       "78312  Roughly 10+ years ago I closed out my accounts...   \n",
       "\n",
       "                                   lemmatized_complaints  \\\n",
       "1      good morning my name be XXXX XXXX and I apprec...   \n",
       "2      I upgrade my xxxx xxxx card in XX and be tell ...   \n",
       "10     Chase Card be report on XX however fraudulent ...   \n",
       "11     on XX while try to book a XXXX xxxx ticket I c...   \n",
       "14     my grand son give I check for I deposit it int...   \n",
       "...                                                  ...   \n",
       "78303  after be a Chase Card customer for well over a...   \n",
       "78309  on Wednesday XX XX XXXX I call Chas my xxxx xx...   \n",
       "78310  I be not familiar with xxxx pay and do not und...   \n",
       "78311  I have have flawless credit for yrs I have Cha...   \n",
       "78312  roughly year ago I close out my account with J...   \n",
       "\n",
       "                                   complaint_POS_removed  complaint_length  \\\n",
       "1      morning name stop cardmember service debt veri...               486   \n",
       "2      xxxx card agent anniversary date agent informa...               355   \n",
       "10     report application identity consent service cr...               224   \n",
       "11     xxxx xxxx ticket offer ticket reward card info...              1502   \n",
       "14     son chase account fund chase bank account mone...               477   \n",
       "...                                                  ...               ...   \n",
       "78303  customer decade solicitation credit card bonus...               679   \n",
       "78309  xxxx xxxx provider claim purchase protection b...              2114   \n",
       "78310  xxxx risk consumer bank app year banking merch...              2319   \n",
       "78311  credit yrs credit card problem balance transfe...              2171   \n",
       "78312  year account order line credit account payment...               794   \n",
       "\n",
       "                                         Complaint_clean  \n",
       "1      morning name stop cardmember service debt veri...  \n",
       "2       card agent anniversary date agent information...  \n",
       "10     report application identity consent service cr...  \n",
       "11       ticket offer ticket reward card information ...  \n",
       "14     son chase account fund chase bank account mone...  \n",
       "...                                                  ...  \n",
       "78303  customer decade solicitation credit card bonus...  \n",
       "78309    provider claim purchase protection benefit  ...  \n",
       "78310   risk consumer bank app year banking merchant ...  \n",
       "78311  credit yrs credit card problem balance transfe...  \n",
       "78312  year account order line credit account payment...  \n",
       "\n",
       "[21072 rows x 5 columns]"
      ]
     },
     "execution_count": 53,
     "metadata": {},
     "output_type": "execute_result"
    }
   ],
   "source": [
    "#All masked texts has been removed\n",
    "df_clean"
   ]
  },
  {
   "cell_type": "markdown",
   "metadata": {
    "id": "k-I0k0QtJrGA"
   },
   "source": [
    "## Feature Extraction\n",
    "Convert the raw texts to a matrix of TF-IDF features\n",
    "\n",
    "**max_df** is used for removing terms that appear too frequently, also known as \"corpus-specific stop words\"\n",
    "max_df = 0.95 means \"ignore terms that appear in more than 95% of the complaints\"\n",
    "\n",
    "**min_df** is used for removing terms that appear too infrequently\n",
    "min_df = 2 means \"ignore terms that appear in less than 2 complaints\""
   ]
  },
  {
   "cell_type": "code",
   "execution_count": 55,
   "metadata": {
    "id": "Y8fGwaCPJrGA"
   },
   "outputs": [],
   "source": [
    "#Write your code here to initialise the TfidfVectorizer \n",
    "\n",
    "tfidf_vectorizer = TfidfVectorizer(max_df=0.95, min_df=2, stop_words='english')"
   ]
  },
  {
   "cell_type": "markdown",
   "metadata": {
    "id": "yYzD85nTJrGA"
   },
   "source": [
    "#### Create a document term matrix using fit_transform\n",
    "\n",
    "The contents of a document term matrix are tuples of (complaint_id,token_id) tf-idf score:\n",
    "The tuples that are not there have a tf-idf score of 0"
   ]
  },
  {
   "cell_type": "code",
   "execution_count": 57,
   "metadata": {
    "id": "ffzdDpp_JrGB"
   },
   "outputs": [],
   "source": [
    "#Write your code here to create the Document Term Matrix by transforming the complaints column present in df_clean.\n",
    "dtm = tfidf_vectorizer.fit_transform(df_clean['Complaint_clean'])"
   ]
  },
  {
   "cell_type": "markdown",
   "metadata": {
    "id": "7Q9lwvNEJrGB"
   },
   "source": [
    "## Topic Modelling using NMF\n",
    "\n",
    "Non-Negative Matrix Factorization (NMF) is an unsupervised technique so there are no labeling of topics that the model will be trained on. The way it works is that, NMF decomposes (or factorizes) high-dimensional vectors into a lower-dimensional representation. These lower-dimensional vectors are non-negative which also means their coefficients are non-negative.\n",
    "\n",
    "In this task you have to perform the following:\n",
    "\n",
    "* Find the best number of clusters \n",
    "* Apply the best number to create word clusters\n",
    "* Inspect & validate the correction of each cluster wrt the complaints \n",
    "* Correct the labels if needed \n",
    "* Map the clusters to topics/cluster names"
   ]
  },
  {
   "cell_type": "code",
   "execution_count": 59,
   "metadata": {
    "id": "amLT4omWJrGB"
   },
   "outputs": [],
   "source": [
    "from sklearn.decomposition import NMF"
   ]
  },
  {
   "cell_type": "markdown",
   "metadata": {
    "id": "0wYR1xUTJrGD"
   },
   "source": [
    "## Manual Topic Modeling\n",
    "You need to do take the trial & error approach to find the best num of topics for your NMF model.\n",
    "\n",
    "The only parameter that is required is the number of components i.e. the number of topics we want. This is the most crucial step in the whole topic modeling process and will greatly affect how good your final topics are."
   ]
  },
  {
   "cell_type": "code",
   "execution_count": 61,
   "metadata": {
    "id": "sgd2A6bhJrGD"
   },
   "outputs": [],
   "source": [
    "# Load your nmf_model with the n_components i.e 5\n",
    "num_topics = 5  # number of topics to test\n",
    "\n",
    "# keep the random_state = 40\n",
    "nmf_model = NMF(n_components=num_topics, random_state=40)"
   ]
  },
  {
   "cell_type": "code",
   "execution_count": 63,
   "metadata": {
    "id": "VPMDYbt_JrGE"
   },
   "outputs": [
    {
     "data": {
      "text/plain": [
       "6108"
      ]
     },
     "execution_count": 63,
     "metadata": {},
     "output_type": "execute_result"
    }
   ],
   "source": [
    "nmf_model.fit(dtm)\n",
    "len(tfidf_vectorizer.get_feature_names_out())"
   ]
  },
  {
   "cell_type": "code",
   "execution_count": 65,
   "metadata": {
    "id": "16kRfat5JrGE"
   },
   "outputs": [
    {
     "name": "stdout",
     "output_type": "stream",
     "text": [
      "Topic 0:\n",
      "account, check, bank, money, fund, deposit, day, branch, checking, number, business, transaction, chase, transfer, claim\n",
      "--------------------------------------------------\n",
      "Topic 1:\n",
      "card, credit, balance, account, chase, limit, score, year, point, purchase, offer, month, application, time, customer\n",
      "--------------------------------------------------\n",
      "Topic 2:\n",
      "payment, loan, mortgage, month, time, home, year, modification, balance, rate, property, statement, date, day, fee\n",
      "--------------------------------------------------\n",
      "Topic 3:\n",
      "report, inquiry, credit, information, company, account, debt, score, letter, identity, reporting, date, file, bureaus, theft\n",
      "--------------------------------------------------\n",
      "Topic 4:\n",
      "charge, dispute, transaction, fee, merchant, claim, fraud, purchase, refund, company, service, time, day, statement, email\n",
      "--------------------------------------------------\n"
     ]
    }
   ],
   "source": [
    "#Print the Top15 words for each of the topics\n",
    "\n",
    "feature_names = tfidf_vectorizer.get_feature_names_out()\n",
    "num_top_words = 15\n",
    "\n",
    "for topic_idx, topic in enumerate(nmf_model.components_):\n",
    "    print(f\"Topic {topic_idx}:\")\n",
    "    top_features_indices = topic.argsort()[:-num_top_words - 1:-1]\n",
    "    top_features = [feature_names[i] for i in top_features_indices]\n",
    "    print(\", \".join(top_features))\n",
    "    print(\"-\" * 50)"
   ]
  },
  {
   "cell_type": "code",
   "execution_count": 67,
   "metadata": {
    "id": "0OIT7LmFJrGF"
   },
   "outputs": [],
   "source": [
    "#Create the best topic for each complaint in terms of integer value 0,1,2,3 & 4\n",
    "\n",
    "topic_values = nmf_model.transform(dtm)"
   ]
  },
  {
   "cell_type": "code",
   "execution_count": 69,
   "metadata": {
    "id": "peyYv-ORJrGF",
    "scrolled": true
   },
   "outputs": [],
   "source": [
    "#Assign the best topic to each of the cmplaints in Topic Column\n",
    "df_clean['Topic'] = topic_values.argmax(axis=1)"
   ]
  },
  {
   "cell_type": "code",
   "execution_count": 71,
   "metadata": {
    "id": "fLh_Gf3nJrGF"
   },
   "outputs": [
    {
     "data": {
      "text/html": [
       "<div>\n",
       "<style scoped>\n",
       "    .dataframe tbody tr th:only-of-type {\n",
       "        vertical-align: middle;\n",
       "    }\n",
       "\n",
       "    .dataframe tbody tr th {\n",
       "        vertical-align: top;\n",
       "    }\n",
       "\n",
       "    .dataframe thead th {\n",
       "        text-align: right;\n",
       "    }\n",
       "</style>\n",
       "<table border=\"1\" class=\"dataframe\">\n",
       "  <thead>\n",
       "    <tr style=\"text-align: right;\">\n",
       "      <th></th>\n",
       "      <th>complaints</th>\n",
       "      <th>lemmatized_complaints</th>\n",
       "      <th>complaint_POS_removed</th>\n",
       "      <th>complaint_length</th>\n",
       "      <th>Complaint_clean</th>\n",
       "      <th>Topic</th>\n",
       "    </tr>\n",
       "  </thead>\n",
       "  <tbody>\n",
       "    <tr>\n",
       "      <th>1</th>\n",
       "      <td>Good morning my name is XXXX XXXX and I apprec...</td>\n",
       "      <td>good morning my name be XXXX XXXX and I apprec...</td>\n",
       "      <td>morning name stop cardmember service debt veri...</td>\n",
       "      <td>486</td>\n",
       "      <td>morning name stop cardmember service debt veri...</td>\n",
       "      <td>0</td>\n",
       "    </tr>\n",
       "    <tr>\n",
       "      <th>2</th>\n",
       "      <td>I upgraded my XXXX XXXX card in XX/XX/2018 and...</td>\n",
       "      <td>I upgrade my xxxx xxxx card in XX and be tell ...</td>\n",
       "      <td>xxxx card agent anniversary date agent informa...</td>\n",
       "      <td>355</td>\n",
       "      <td>card agent anniversary date agent information...</td>\n",
       "      <td>1</td>\n",
       "    </tr>\n",
       "    <tr>\n",
       "      <th>10</th>\n",
       "      <td>Chase Card was reported on XX/XX/2019. However...</td>\n",
       "      <td>Chase Card be report on XX however fraudulent ...</td>\n",
       "      <td>report application identity consent service cr...</td>\n",
       "      <td>224</td>\n",
       "      <td>report application identity consent service cr...</td>\n",
       "      <td>3</td>\n",
       "    </tr>\n",
       "    <tr>\n",
       "      <th>11</th>\n",
       "      <td>On XX/XX/2018, while trying to book a XXXX  XX...</td>\n",
       "      <td>on XX while try to book a XXXX xxxx ticket I c...</td>\n",
       "      <td>xxxx xxxx ticket offer ticket reward card info...</td>\n",
       "      <td>1502</td>\n",
       "      <td>ticket offer ticket reward card information ...</td>\n",
       "      <td>3</td>\n",
       "    </tr>\n",
       "    <tr>\n",
       "      <th>14</th>\n",
       "      <td>my grand son give me check for {$1600.00} i de...</td>\n",
       "      <td>my grand son give I check for I deposit it int...</td>\n",
       "      <td>son chase account fund chase bank account mone...</td>\n",
       "      <td>477</td>\n",
       "      <td>son chase account fund chase bank account mone...</td>\n",
       "      <td>0</td>\n",
       "    </tr>\n",
       "  </tbody>\n",
       "</table>\n",
       "</div>"
      ],
      "text/plain": [
       "                                           complaints  \\\n",
       "1   Good morning my name is XXXX XXXX and I apprec...   \n",
       "2   I upgraded my XXXX XXXX card in XX/XX/2018 and...   \n",
       "10  Chase Card was reported on XX/XX/2019. However...   \n",
       "11  On XX/XX/2018, while trying to book a XXXX  XX...   \n",
       "14  my grand son give me check for {$1600.00} i de...   \n",
       "\n",
       "                                lemmatized_complaints  \\\n",
       "1   good morning my name be XXXX XXXX and I apprec...   \n",
       "2   I upgrade my xxxx xxxx card in XX and be tell ...   \n",
       "10  Chase Card be report on XX however fraudulent ...   \n",
       "11  on XX while try to book a XXXX xxxx ticket I c...   \n",
       "14  my grand son give I check for I deposit it int...   \n",
       "\n",
       "                                complaint_POS_removed  complaint_length  \\\n",
       "1   morning name stop cardmember service debt veri...               486   \n",
       "2   xxxx card agent anniversary date agent informa...               355   \n",
       "10  report application identity consent service cr...               224   \n",
       "11  xxxx xxxx ticket offer ticket reward card info...              1502   \n",
       "14  son chase account fund chase bank account mone...               477   \n",
       "\n",
       "                                      Complaint_clean  Topic  \n",
       "1   morning name stop cardmember service debt veri...      0  \n",
       "2    card agent anniversary date agent information...      1  \n",
       "10  report application identity consent service cr...      3  \n",
       "11    ticket offer ticket reward card information ...      3  \n",
       "14  son chase account fund chase bank account mone...      0  "
      ]
     },
     "execution_count": 71,
     "metadata": {},
     "output_type": "execute_result"
    }
   ],
   "source": [
    "df_clean.head()"
   ]
  },
  {
   "cell_type": "code",
   "execution_count": 105,
   "metadata": {
    "id": "aQKpufSPJrGG"
   },
   "outputs": [
    {
     "name": "stdout",
     "output_type": "stream",
     "text": [
      "                                           complaints  \\\n",
      "1   Good morning my name is XXXX XXXX and I apprec...   \n",
      "24  mishandling of this account by Chase auto and ...   \n",
      "17  With out notice J.P. Morgan Chase restricted m...   \n",
      "14  my grand son give me check for {$1600.00} i de...   \n",
      "27  I opened an account with chase bank on XXXX an...   \n",
      "32  My chase amazon card was declined for a cateri...   \n",
      "59  I currently have over XXXX Chase Ultimate Rewa...   \n",
      "52  My roommate was stealing my Chase debit card a...   \n",
      "2   I upgraded my XXXX XXXX card in XX/XX/2018 and...   \n",
      "50  I AM A SENIOR CITIZEN THAT HAS BEEN SCAMMED BY...   \n",
      "58  I made a purchase of {$260.00} on XX/XX/XXXX. ...   \n",
      "57  I have been trying to do a loan modification w...   \n",
      "81  I bought a new XXXX XXXX on XX/XX/XXXX from XX...   \n",
      "20  During the summer months, I experience a decli...   \n",
      "73  I have wired through one of Chase branches in ...   \n",
      "11  On XX/XX/2018, while trying to book a XXXX  XX...   \n",
      "26  I have reached out to XXXX several times in at...   \n",
      "23  I have a Chase credit card which is incorrectl...   \n",
      "10  Chase Card was reported on XX/XX/2019. However...   \n",
      "15                      Can you please remove inquiry   \n",
      "30  To whom it may concern, Chase bank charged wro...   \n",
      "40  XXXX XXXX a sofa, love seat, table and chairs ...   \n",
      "45  I made a purchase with XXXX XXXX XXXX on XX/XX...   \n",
      "21  On XXXX XX/XX/2019, I made a {$300.00} payment...   \n",
      "63  I tried to send almost {$2000.00} at XXXX and ...   \n",
      "\n",
      "                                lemmatized_complaints  \\\n",
      "1   good morning my name be XXXX XXXX and I apprec...   \n",
      "24   mishandle of this account by Chase auto and xxxx   \n",
      "17  with out notice Morgan Chase restrict my accou...   \n",
      "14  my grand son give I check for I deposit it int...   \n",
      "27  I open an account with chase bank on XXXX and ...   \n",
      "32  my chase amazon card be decline for a catering...   \n",
      "59  I currently have over XXXX Chase Ultimate Rewa...   \n",
      "52  my roommate be steal my Chase debit card and d...   \n",
      "2   I upgrade my xxxx xxxx card in XX and be tell ...   \n",
      "50  I be a senior CITIZEN that have be scammed by ...   \n",
      "58  I make a purchase of on XX XX XXXX I make paym...   \n",
      "57  I have be try to do a loan modification with C...   \n",
      "81  I buy a new xxxx xxxx on XX XX xxxx from XXXX ...   \n",
      "20  during the summer month I experience a decline...   \n",
      "73  I have wire through one of Chase branch in XXX...   \n",
      "11  on XX while try to book a XXXX xxxx ticket I c...   \n",
      "26  I have reach out to xxxx several time in attem...   \n",
      "23  I have a Chase credit card which be incorrectl...   \n",
      "10  Chase Card be report on XX however fraudulent ...   \n",
      "15                      can you please remove inquiry   \n",
      "30  to whom it may concern Chase bank charge wrong...   \n",
      "40  xxxx xxxx a sofa love seat table and chair and...   \n",
      "45  I make a purchase with XXXX xxxx xxxx on XX in...   \n",
      "21  on XXXX XX I make a payment to an online retai...   \n",
      "63  I try to send almost at XXXX and the transacti...   \n",
      "\n",
      "                                complaint_POS_removed  complaint_length  \\\n",
      "1   morning name stop cardmember service debt veri...               486   \n",
      "24                        mishandle account auto xxxx                51   \n",
      "17  notice account debit card branch customer serv...              2277   \n",
      "14  son chase account fund chase bank account mone...               477   \n",
      "27  account bank code bonus xxxx term account xxxx...               413   \n",
      "32  chase card decline catering order place brothe...              1972   \n",
      "59  point month account bonus page request time im...              1897   \n",
      "52  roommate debit card driver license money accou...               843   \n",
      "2   xxxx card agent anniversary date agent informa...               355   \n",
      "50  company time share company refund credit card ...               350   \n",
      "58  purchase xxxx payment xxxx xxxx payment closin...              1274   \n",
      "57                      loan modification payment doc               190   \n",
      "81  xxxx xxxx xxxx loan chase title chase time res...               437   \n",
      "20  summer month decline income employment month p...              1396   \n",
      "73  wire branch order foreclosure proceeding prope...              1143   \n",
      "11  xxxx xxxx ticket offer ticket reward card info...              1502   \n",
      "26  time attempt inquiry remove creditor inquiry r...               753   \n",
      "23      credit card datum credit report company issue               129   \n",
      "10  report application identity consent service cr...               224   \n",
      "15                                            inquiry                29   \n",
      "30  bank overdraft fee alert balance fee balance t...               566   \n",
      "40  sofa love seat table chair debit card charge c...               165   \n",
      "45  purchase xxxx xxxx amount charge transaction d...              1920   \n",
      "21  xx payment retailer pay xxxx website scam webs...              3541   \n",
      "63     transaction charge service refund card account               283   \n",
      "\n",
      "                                      Complaint_clean  Topic  \n",
      "1   morning name stop cardmember service debt veri...      0  \n",
      "24                            mishandle account auto       0  \n",
      "17  notice account debit card branch customer serv...      0  \n",
      "14  son chase account fund chase bank account mone...      0  \n",
      "27  account bank code bonus  term account  deposit...      0  \n",
      "32  chase card decline catering order place brothe...      1  \n",
      "59  point month account bonus page request time im...      1  \n",
      "52  roommate debit card driver license money accou...      1  \n",
      "2    card agent anniversary date agent information...      1  \n",
      "50  company time share company refund credit card ...      1  \n",
      "58  purchase  payment   payment closing date state...      2  \n",
      "57                      loan modification payment doc      2  \n",
      "81     loan chase title chase time resolution time...      2  \n",
      "20  summer month decline income employment month p...      2  \n",
      "73  wire branch order foreclosure proceeding prope...      2  \n",
      "11    ticket offer ticket reward card information ...      3  \n",
      "26  time attempt inquiry remove creditor inquiry r...      3  \n",
      "23      credit card datum credit report company issue      3  \n",
      "10  report application identity consent service cr...      3  \n",
      "15                                            inquiry      3  \n",
      "30  bank overdraft fee alert balance fee balance t...      4  \n",
      "40  sofa love seat table chair debit card charge c...      4  \n",
      "45  purchase   amount charge transaction dispute c...      4  \n",
      "21   payment retailer pay  website scam website co...      4  \n",
      "63     transaction charge service refund card account      4  \n"
     ]
    }
   ],
   "source": [
    "#Print the first 5 Complaint for each of the Topics\n",
    "df_clean = df_clean.groupby('Topic').head(5)\n",
    "df_clean = df_clean.sort_values('Topic')\n",
    "print(df_clean)"
   ]
  },
  {
   "cell_type": "markdown",
   "metadata": {
    "id": "piyLxzj6v07j"
   },
   "source": [
    "#### After evaluating the mapping, if the topics assigned are correct then assign these names to the relevant topic:\n",
    "* Bank Account services\n",
    "* Credit card or prepaid card\n",
    "* Theft/Dispute Reporting\n",
    "* Mortgage/Loan\n",
    "* Others"
   ]
  },
  {
   "cell_type": "code",
   "execution_count": 73,
   "metadata": {
    "id": "TWpwDG4RJrGG"
   },
   "outputs": [],
   "source": [
    "#Create the dictionary of Topic names and Topics\n",
    "\n",
    "Topic_names = {\n",
    "    0: \"Bank Account services\",\n",
    "    1: \"Credit card or prepaid card\",\n",
    "    2: \"Theft/Dispute Reporting\",\n",
    "    3: \"Mortgage/Loan\",\n",
    "    4: \"Others\"\n",
    "}\n",
    "#Replace Topics with Topic Names\n",
    "df_clean['Topic'] = df_clean['Topic'].map(Topic_names)"
   ]
  },
  {
   "cell_type": "code",
   "execution_count": 75,
   "metadata": {
    "id": "-2ULY5K6JrGG"
   },
   "outputs": [
    {
     "data": {
      "text/html": [
       "<div>\n",
       "<style scoped>\n",
       "    .dataframe tbody tr th:only-of-type {\n",
       "        vertical-align: middle;\n",
       "    }\n",
       "\n",
       "    .dataframe tbody tr th {\n",
       "        vertical-align: top;\n",
       "    }\n",
       "\n",
       "    .dataframe thead th {\n",
       "        text-align: right;\n",
       "    }\n",
       "</style>\n",
       "<table border=\"1\" class=\"dataframe\">\n",
       "  <thead>\n",
       "    <tr style=\"text-align: right;\">\n",
       "      <th></th>\n",
       "      <th>complaints</th>\n",
       "      <th>lemmatized_complaints</th>\n",
       "      <th>complaint_POS_removed</th>\n",
       "      <th>complaint_length</th>\n",
       "      <th>Complaint_clean</th>\n",
       "      <th>Topic</th>\n",
       "    </tr>\n",
       "  </thead>\n",
       "  <tbody>\n",
       "    <tr>\n",
       "      <th>1</th>\n",
       "      <td>Good morning my name is XXXX XXXX and I apprec...</td>\n",
       "      <td>good morning my name be XXXX XXXX and I apprec...</td>\n",
       "      <td>morning name stop cardmember service debt veri...</td>\n",
       "      <td>486</td>\n",
       "      <td>morning name stop cardmember service debt veri...</td>\n",
       "      <td>Bank Account services</td>\n",
       "    </tr>\n",
       "    <tr>\n",
       "      <th>2</th>\n",
       "      <td>I upgraded my XXXX XXXX card in XX/XX/2018 and...</td>\n",
       "      <td>I upgrade my xxxx xxxx card in XX and be tell ...</td>\n",
       "      <td>xxxx card agent anniversary date agent informa...</td>\n",
       "      <td>355</td>\n",
       "      <td>card agent anniversary date agent information...</td>\n",
       "      <td>Credit card or prepaid card</td>\n",
       "    </tr>\n",
       "    <tr>\n",
       "      <th>10</th>\n",
       "      <td>Chase Card was reported on XX/XX/2019. However...</td>\n",
       "      <td>Chase Card be report on XX however fraudulent ...</td>\n",
       "      <td>report application identity consent service cr...</td>\n",
       "      <td>224</td>\n",
       "      <td>report application identity consent service cr...</td>\n",
       "      <td>Mortgage/Loan</td>\n",
       "    </tr>\n",
       "    <tr>\n",
       "      <th>11</th>\n",
       "      <td>On XX/XX/2018, while trying to book a XXXX  XX...</td>\n",
       "      <td>on XX while try to book a XXXX xxxx ticket I c...</td>\n",
       "      <td>xxxx xxxx ticket offer ticket reward card info...</td>\n",
       "      <td>1502</td>\n",
       "      <td>ticket offer ticket reward card information ...</td>\n",
       "      <td>Mortgage/Loan</td>\n",
       "    </tr>\n",
       "    <tr>\n",
       "      <th>14</th>\n",
       "      <td>my grand son give me check for {$1600.00} i de...</td>\n",
       "      <td>my grand son give I check for I deposit it int...</td>\n",
       "      <td>son chase account fund chase bank account mone...</td>\n",
       "      <td>477</td>\n",
       "      <td>son chase account fund chase bank account mone...</td>\n",
       "      <td>Bank Account services</td>\n",
       "    </tr>\n",
       "    <tr>\n",
       "      <th>...</th>\n",
       "      <td>...</td>\n",
       "      <td>...</td>\n",
       "      <td>...</td>\n",
       "      <td>...</td>\n",
       "      <td>...</td>\n",
       "      <td>...</td>\n",
       "    </tr>\n",
       "    <tr>\n",
       "      <th>78303</th>\n",
       "      <td>After being a Chase Card customer for well ove...</td>\n",
       "      <td>after be a Chase Card customer for well over a...</td>\n",
       "      <td>customer decade solicitation credit card bonus...</td>\n",
       "      <td>679</td>\n",
       "      <td>customer decade solicitation credit card bonus...</td>\n",
       "      <td>Credit card or prepaid card</td>\n",
       "    </tr>\n",
       "    <tr>\n",
       "      <th>78309</th>\n",
       "      <td>On Wednesday, XX/XX/XXXX I called Chas, my XXX...</td>\n",
       "      <td>on Wednesday XX XX XXXX I call Chas my xxxx xx...</td>\n",
       "      <td>xxxx xxxx provider claim purchase protection b...</td>\n",
       "      <td>2114</td>\n",
       "      <td>provider claim purchase protection benefit  ...</td>\n",
       "      <td>Others</td>\n",
       "    </tr>\n",
       "    <tr>\n",
       "      <th>78310</th>\n",
       "      <td>I am not familiar with XXXX pay and did not un...</td>\n",
       "      <td>I be not familiar with xxxx pay and do not und...</td>\n",
       "      <td>xxxx risk consumer bank app year banking merch...</td>\n",
       "      <td>2319</td>\n",
       "      <td>risk consumer bank app year banking merchant ...</td>\n",
       "      <td>Mortgage/Loan</td>\n",
       "    </tr>\n",
       "    <tr>\n",
       "      <th>78311</th>\n",
       "      <td>I have had flawless credit for 30 yrs. I've ha...</td>\n",
       "      <td>I have have flawless credit for yrs I have Cha...</td>\n",
       "      <td>credit yrs credit card problem balance transfe...</td>\n",
       "      <td>2171</td>\n",
       "      <td>credit yrs credit card problem balance transfe...</td>\n",
       "      <td>Credit card or prepaid card</td>\n",
       "    </tr>\n",
       "    <tr>\n",
       "      <th>78312</th>\n",
       "      <td>Roughly 10+ years ago I closed out my accounts...</td>\n",
       "      <td>roughly year ago I close out my account with J...</td>\n",
       "      <td>year account order line credit account payment...</td>\n",
       "      <td>794</td>\n",
       "      <td>year account order line credit account payment...</td>\n",
       "      <td>Theft/Dispute Reporting</td>\n",
       "    </tr>\n",
       "  </tbody>\n",
       "</table>\n",
       "<p>21072 rows × 6 columns</p>\n",
       "</div>"
      ],
      "text/plain": [
       "                                              complaints  \\\n",
       "1      Good morning my name is XXXX XXXX and I apprec...   \n",
       "2      I upgraded my XXXX XXXX card in XX/XX/2018 and...   \n",
       "10     Chase Card was reported on XX/XX/2019. However...   \n",
       "11     On XX/XX/2018, while trying to book a XXXX  XX...   \n",
       "14     my grand son give me check for {$1600.00} i de...   \n",
       "...                                                  ...   \n",
       "78303  After being a Chase Card customer for well ove...   \n",
       "78309  On Wednesday, XX/XX/XXXX I called Chas, my XXX...   \n",
       "78310  I am not familiar with XXXX pay and did not un...   \n",
       "78311  I have had flawless credit for 30 yrs. I've ha...   \n",
       "78312  Roughly 10+ years ago I closed out my accounts...   \n",
       "\n",
       "                                   lemmatized_complaints  \\\n",
       "1      good morning my name be XXXX XXXX and I apprec...   \n",
       "2      I upgrade my xxxx xxxx card in XX and be tell ...   \n",
       "10     Chase Card be report on XX however fraudulent ...   \n",
       "11     on XX while try to book a XXXX xxxx ticket I c...   \n",
       "14     my grand son give I check for I deposit it int...   \n",
       "...                                                  ...   \n",
       "78303  after be a Chase Card customer for well over a...   \n",
       "78309  on Wednesday XX XX XXXX I call Chas my xxxx xx...   \n",
       "78310  I be not familiar with xxxx pay and do not und...   \n",
       "78311  I have have flawless credit for yrs I have Cha...   \n",
       "78312  roughly year ago I close out my account with J...   \n",
       "\n",
       "                                   complaint_POS_removed  complaint_length  \\\n",
       "1      morning name stop cardmember service debt veri...               486   \n",
       "2      xxxx card agent anniversary date agent informa...               355   \n",
       "10     report application identity consent service cr...               224   \n",
       "11     xxxx xxxx ticket offer ticket reward card info...              1502   \n",
       "14     son chase account fund chase bank account mone...               477   \n",
       "...                                                  ...               ...   \n",
       "78303  customer decade solicitation credit card bonus...               679   \n",
       "78309  xxxx xxxx provider claim purchase protection b...              2114   \n",
       "78310  xxxx risk consumer bank app year banking merch...              2319   \n",
       "78311  credit yrs credit card problem balance transfe...              2171   \n",
       "78312  year account order line credit account payment...               794   \n",
       "\n",
       "                                         Complaint_clean  \\\n",
       "1      morning name stop cardmember service debt veri...   \n",
       "2       card agent anniversary date agent information...   \n",
       "10     report application identity consent service cr...   \n",
       "11       ticket offer ticket reward card information ...   \n",
       "14     son chase account fund chase bank account mone...   \n",
       "...                                                  ...   \n",
       "78303  customer decade solicitation credit card bonus...   \n",
       "78309    provider claim purchase protection benefit  ...   \n",
       "78310   risk consumer bank app year banking merchant ...   \n",
       "78311  credit yrs credit card problem balance transfe...   \n",
       "78312  year account order line credit account payment...   \n",
       "\n",
       "                             Topic  \n",
       "1            Bank Account services  \n",
       "2      Credit card or prepaid card  \n",
       "10                   Mortgage/Loan  \n",
       "11                   Mortgage/Loan  \n",
       "14           Bank Account services  \n",
       "...                            ...  \n",
       "78303  Credit card or prepaid card  \n",
       "78309                       Others  \n",
       "78310                Mortgage/Loan  \n",
       "78311  Credit card or prepaid card  \n",
       "78312      Theft/Dispute Reporting  \n",
       "\n",
       "[21072 rows x 6 columns]"
      ]
     },
     "execution_count": 75,
     "metadata": {},
     "output_type": "execute_result"
    }
   ],
   "source": [
    "df_clean"
   ]
  },
  {
   "cell_type": "markdown",
   "metadata": {
    "id": "7Mu0QBOcJrGH"
   },
   "source": [
    "## Supervised model to predict any new complaints to the relevant Topics.\n",
    "\n",
    "You have now build the model to create the topics for each complaints.Now in the below section you will use them to classify any new complaints.\n",
    "\n",
    "Since you will be using supervised learning technique we have to convert the topic names to numbers(numpy arrays only understand numbers)"
   ]
  },
  {
   "cell_type": "code",
   "execution_count": 77,
   "metadata": {
    "id": "_U8J3J8wJrGH"
   },
   "outputs": [
    {
     "name": "stdout",
     "output_type": "stream",
     "text": [
      "[0 1 3 2 4]\n"
     ]
    }
   ],
   "source": [
    "# Create dictionary mapping topic names to integers\n",
    "Topic_names = {\n",
    "    \"Bank Account services\": 0,\n",
    "    \"Credit card or prepaid card\": 1,\n",
    "    \"Theft/Dispute Reporting\": 2,\n",
    "    \"Mortgage/Loan\": 3,\n",
    "    \"Others\": 4\n",
    "}\n",
    "\n",
    "# Replace topic names with numbers\n",
    "df_clean['Topic'] = df_clean['Topic'].map(Topic_names)\n",
    "\n",
    "# Verify\n",
    "print(df_clean['Topic'].unique())"
   ]
  },
  {
   "cell_type": "code",
   "execution_count": 79,
   "metadata": {
    "id": "BWIgJUkQJrGH"
   },
   "outputs": [
    {
     "data": {
      "text/html": [
       "<div>\n",
       "<style scoped>\n",
       "    .dataframe tbody tr th:only-of-type {\n",
       "        vertical-align: middle;\n",
       "    }\n",
       "\n",
       "    .dataframe tbody tr th {\n",
       "        vertical-align: top;\n",
       "    }\n",
       "\n",
       "    .dataframe thead th {\n",
       "        text-align: right;\n",
       "    }\n",
       "</style>\n",
       "<table border=\"1\" class=\"dataframe\">\n",
       "  <thead>\n",
       "    <tr style=\"text-align: right;\">\n",
       "      <th></th>\n",
       "      <th>complaints</th>\n",
       "      <th>lemmatized_complaints</th>\n",
       "      <th>complaint_POS_removed</th>\n",
       "      <th>complaint_length</th>\n",
       "      <th>Complaint_clean</th>\n",
       "      <th>Topic</th>\n",
       "    </tr>\n",
       "  </thead>\n",
       "  <tbody>\n",
       "    <tr>\n",
       "      <th>1</th>\n",
       "      <td>Good morning my name is XXXX XXXX and I apprec...</td>\n",
       "      <td>good morning my name be XXXX XXXX and I apprec...</td>\n",
       "      <td>morning name stop cardmember service debt veri...</td>\n",
       "      <td>486</td>\n",
       "      <td>morning name stop cardmember service debt veri...</td>\n",
       "      <td>0</td>\n",
       "    </tr>\n",
       "    <tr>\n",
       "      <th>2</th>\n",
       "      <td>I upgraded my XXXX XXXX card in XX/XX/2018 and...</td>\n",
       "      <td>I upgrade my xxxx xxxx card in XX and be tell ...</td>\n",
       "      <td>xxxx card agent anniversary date agent informa...</td>\n",
       "      <td>355</td>\n",
       "      <td>card agent anniversary date agent information...</td>\n",
       "      <td>1</td>\n",
       "    </tr>\n",
       "    <tr>\n",
       "      <th>10</th>\n",
       "      <td>Chase Card was reported on XX/XX/2019. However...</td>\n",
       "      <td>Chase Card be report on XX however fraudulent ...</td>\n",
       "      <td>report application identity consent service cr...</td>\n",
       "      <td>224</td>\n",
       "      <td>report application identity consent service cr...</td>\n",
       "      <td>3</td>\n",
       "    </tr>\n",
       "    <tr>\n",
       "      <th>11</th>\n",
       "      <td>On XX/XX/2018, while trying to book a XXXX  XX...</td>\n",
       "      <td>on XX while try to book a XXXX xxxx ticket I c...</td>\n",
       "      <td>xxxx xxxx ticket offer ticket reward card info...</td>\n",
       "      <td>1502</td>\n",
       "      <td>ticket offer ticket reward card information ...</td>\n",
       "      <td>3</td>\n",
       "    </tr>\n",
       "    <tr>\n",
       "      <th>14</th>\n",
       "      <td>my grand son give me check for {$1600.00} i de...</td>\n",
       "      <td>my grand son give I check for I deposit it int...</td>\n",
       "      <td>son chase account fund chase bank account mone...</td>\n",
       "      <td>477</td>\n",
       "      <td>son chase account fund chase bank account mone...</td>\n",
       "      <td>0</td>\n",
       "    </tr>\n",
       "    <tr>\n",
       "      <th>...</th>\n",
       "      <td>...</td>\n",
       "      <td>...</td>\n",
       "      <td>...</td>\n",
       "      <td>...</td>\n",
       "      <td>...</td>\n",
       "      <td>...</td>\n",
       "    </tr>\n",
       "    <tr>\n",
       "      <th>78303</th>\n",
       "      <td>After being a Chase Card customer for well ove...</td>\n",
       "      <td>after be a Chase Card customer for well over a...</td>\n",
       "      <td>customer decade solicitation credit card bonus...</td>\n",
       "      <td>679</td>\n",
       "      <td>customer decade solicitation credit card bonus...</td>\n",
       "      <td>1</td>\n",
       "    </tr>\n",
       "    <tr>\n",
       "      <th>78309</th>\n",
       "      <td>On Wednesday, XX/XX/XXXX I called Chas, my XXX...</td>\n",
       "      <td>on Wednesday XX XX XXXX I call Chas my xxxx xx...</td>\n",
       "      <td>xxxx xxxx provider claim purchase protection b...</td>\n",
       "      <td>2114</td>\n",
       "      <td>provider claim purchase protection benefit  ...</td>\n",
       "      <td>4</td>\n",
       "    </tr>\n",
       "    <tr>\n",
       "      <th>78310</th>\n",
       "      <td>I am not familiar with XXXX pay and did not un...</td>\n",
       "      <td>I be not familiar with xxxx pay and do not und...</td>\n",
       "      <td>xxxx risk consumer bank app year banking merch...</td>\n",
       "      <td>2319</td>\n",
       "      <td>risk consumer bank app year banking merchant ...</td>\n",
       "      <td>3</td>\n",
       "    </tr>\n",
       "    <tr>\n",
       "      <th>78311</th>\n",
       "      <td>I have had flawless credit for 30 yrs. I've ha...</td>\n",
       "      <td>I have have flawless credit for yrs I have Cha...</td>\n",
       "      <td>credit yrs credit card problem balance transfe...</td>\n",
       "      <td>2171</td>\n",
       "      <td>credit yrs credit card problem balance transfe...</td>\n",
       "      <td>1</td>\n",
       "    </tr>\n",
       "    <tr>\n",
       "      <th>78312</th>\n",
       "      <td>Roughly 10+ years ago I closed out my accounts...</td>\n",
       "      <td>roughly year ago I close out my account with J...</td>\n",
       "      <td>year account order line credit account payment...</td>\n",
       "      <td>794</td>\n",
       "      <td>year account order line credit account payment...</td>\n",
       "      <td>2</td>\n",
       "    </tr>\n",
       "  </tbody>\n",
       "</table>\n",
       "<p>21072 rows × 6 columns</p>\n",
       "</div>"
      ],
      "text/plain": [
       "                                              complaints  \\\n",
       "1      Good morning my name is XXXX XXXX and I apprec...   \n",
       "2      I upgraded my XXXX XXXX card in XX/XX/2018 and...   \n",
       "10     Chase Card was reported on XX/XX/2019. However...   \n",
       "11     On XX/XX/2018, while trying to book a XXXX  XX...   \n",
       "14     my grand son give me check for {$1600.00} i de...   \n",
       "...                                                  ...   \n",
       "78303  After being a Chase Card customer for well ove...   \n",
       "78309  On Wednesday, XX/XX/XXXX I called Chas, my XXX...   \n",
       "78310  I am not familiar with XXXX pay and did not un...   \n",
       "78311  I have had flawless credit for 30 yrs. I've ha...   \n",
       "78312  Roughly 10+ years ago I closed out my accounts...   \n",
       "\n",
       "                                   lemmatized_complaints  \\\n",
       "1      good morning my name be XXXX XXXX and I apprec...   \n",
       "2      I upgrade my xxxx xxxx card in XX and be tell ...   \n",
       "10     Chase Card be report on XX however fraudulent ...   \n",
       "11     on XX while try to book a XXXX xxxx ticket I c...   \n",
       "14     my grand son give I check for I deposit it int...   \n",
       "...                                                  ...   \n",
       "78303  after be a Chase Card customer for well over a...   \n",
       "78309  on Wednesday XX XX XXXX I call Chas my xxxx xx...   \n",
       "78310  I be not familiar with xxxx pay and do not und...   \n",
       "78311  I have have flawless credit for yrs I have Cha...   \n",
       "78312  roughly year ago I close out my account with J...   \n",
       "\n",
       "                                   complaint_POS_removed  complaint_length  \\\n",
       "1      morning name stop cardmember service debt veri...               486   \n",
       "2      xxxx card agent anniversary date agent informa...               355   \n",
       "10     report application identity consent service cr...               224   \n",
       "11     xxxx xxxx ticket offer ticket reward card info...              1502   \n",
       "14     son chase account fund chase bank account mone...               477   \n",
       "...                                                  ...               ...   \n",
       "78303  customer decade solicitation credit card bonus...               679   \n",
       "78309  xxxx xxxx provider claim purchase protection b...              2114   \n",
       "78310  xxxx risk consumer bank app year banking merch...              2319   \n",
       "78311  credit yrs credit card problem balance transfe...              2171   \n",
       "78312  year account order line credit account payment...               794   \n",
       "\n",
       "                                         Complaint_clean  Topic  \n",
       "1      morning name stop cardmember service debt veri...      0  \n",
       "2       card agent anniversary date agent information...      1  \n",
       "10     report application identity consent service cr...      3  \n",
       "11       ticket offer ticket reward card information ...      3  \n",
       "14     son chase account fund chase bank account mone...      0  \n",
       "...                                                  ...    ...  \n",
       "78303  customer decade solicitation credit card bonus...      1  \n",
       "78309    provider claim purchase protection benefit  ...      4  \n",
       "78310   risk consumer bank app year banking merchant ...      3  \n",
       "78311  credit yrs credit card problem balance transfe...      1  \n",
       "78312  year account order line credit account payment...      2  \n",
       "\n",
       "[21072 rows x 6 columns]"
      ]
     },
     "execution_count": 79,
     "metadata": {},
     "output_type": "execute_result"
    }
   ],
   "source": [
    "df_clean"
   ]
  },
  {
   "cell_type": "code",
   "execution_count": 81,
   "metadata": {
    "id": "Xx-FrbkWJrGH"
   },
   "outputs": [],
   "source": [
    "#Keep the columns\"complaint_what_happened\" & \"Topic\" only in the new dataframe --> training_data\n",
    "training_data = df_clean[[\"complaints\", \"Topic\"]].copy()"
   ]
  },
  {
   "cell_type": "code",
   "execution_count": 83,
   "metadata": {
    "id": "lVg2pa12JrGI"
   },
   "outputs": [
    {
     "data": {
      "text/html": [
       "<div>\n",
       "<style scoped>\n",
       "    .dataframe tbody tr th:only-of-type {\n",
       "        vertical-align: middle;\n",
       "    }\n",
       "\n",
       "    .dataframe tbody tr th {\n",
       "        vertical-align: top;\n",
       "    }\n",
       "\n",
       "    .dataframe thead th {\n",
       "        text-align: right;\n",
       "    }\n",
       "</style>\n",
       "<table border=\"1\" class=\"dataframe\">\n",
       "  <thead>\n",
       "    <tr style=\"text-align: right;\">\n",
       "      <th></th>\n",
       "      <th>complaints</th>\n",
       "      <th>Topic</th>\n",
       "    </tr>\n",
       "  </thead>\n",
       "  <tbody>\n",
       "    <tr>\n",
       "      <th>1</th>\n",
       "      <td>Good morning my name is XXXX XXXX and I apprec...</td>\n",
       "      <td>0</td>\n",
       "    </tr>\n",
       "    <tr>\n",
       "      <th>2</th>\n",
       "      <td>I upgraded my XXXX XXXX card in XX/XX/2018 and...</td>\n",
       "      <td>1</td>\n",
       "    </tr>\n",
       "    <tr>\n",
       "      <th>10</th>\n",
       "      <td>Chase Card was reported on XX/XX/2019. However...</td>\n",
       "      <td>3</td>\n",
       "    </tr>\n",
       "    <tr>\n",
       "      <th>11</th>\n",
       "      <td>On XX/XX/2018, while trying to book a XXXX  XX...</td>\n",
       "      <td>3</td>\n",
       "    </tr>\n",
       "    <tr>\n",
       "      <th>14</th>\n",
       "      <td>my grand son give me check for {$1600.00} i de...</td>\n",
       "      <td>0</td>\n",
       "    </tr>\n",
       "  </tbody>\n",
       "</table>\n",
       "</div>"
      ],
      "text/plain": [
       "                                           complaints  Topic\n",
       "1   Good morning my name is XXXX XXXX and I apprec...      0\n",
       "2   I upgraded my XXXX XXXX card in XX/XX/2018 and...      1\n",
       "10  Chase Card was reported on XX/XX/2019. However...      3\n",
       "11  On XX/XX/2018, while trying to book a XXXX  XX...      3\n",
       "14  my grand son give me check for {$1600.00} i de...      0"
      ]
     },
     "execution_count": 83,
     "metadata": {},
     "output_type": "execute_result"
    }
   ],
   "source": [
    "training_data.head()"
   ]
  },
  {
   "cell_type": "markdown",
   "metadata": {
    "id": "280Vbqk-7a8M"
   },
   "source": [
    "####Apply the supervised models on the training data created. In this process, you have to do the following:\n",
    "* Create the vector counts using Count Vectoriser\n",
    "* Transform the word vecotr to tf-idf\n",
    "* Create the train & test data using the train_test_split on the tf-idf & topics\n"
   ]
  },
  {
   "cell_type": "code",
   "execution_count": 85,
   "metadata": {
    "id": "oUlQpgkzJrGI"
   },
   "outputs": [],
   "source": [
    "from sklearn.feature_extraction.text import TfidfTransformer\n",
    "#Write your code to get the Vector count\n",
    "count_vect = CountVectorizer()\n",
    "X_counts = count_vect.fit_transform(training_data['complaints'])\n",
    "\n",
    "#Write your code here to transform the word vector to tf-idf\n",
    "tfidf_transformer = TfidfTransformer()\n",
    "X_tfidf = tfidf_transformer.fit_transform(X_counts)"
   ]
  },
  {
   "cell_type": "markdown",
   "metadata": {
    "id": "uMU3vj6w-wqL"
   },
   "source": [
    "You have to try atleast 3 models on the train & test data from these options:\n",
    "* Logistic regression\n",
    "* Decision Tree\n",
    "* Random Forest\n",
    "* Naive Bayes (optional)\n",
    "\n",
    "**Using the required evaluation metrics judge the tried models and select the ones performing the best**"
   ]
  },
  {
   "cell_type": "code",
   "execution_count": 87,
   "metadata": {
    "id": "udLHpPsZJrGI"
   },
   "outputs": [
    {
     "name": "stdout",
     "output_type": "stream",
     "text": [
      "Training data shape: (21072, 2)\n",
      "Unique Topics: [0 1 3 2 4]\n",
      "Logistic Regression Accuracy: 0.896797153024911\n",
      "              precision    recall  f1-score   support\n",
      "\n",
      "           0       0.90      0.91      0.90      1084\n",
      "           1       0.89      0.88      0.89       828\n",
      "           2       0.92      0.95      0.93       998\n",
      "           3       0.90      0.84      0.87       502\n",
      "           4       0.87      0.86      0.87       803\n",
      "\n",
      "    accuracy                           0.90      4215\n",
      "   macro avg       0.90      0.89      0.89      4215\n",
      "weighted avg       0.90      0.90      0.90      4215\n",
      "\n",
      "\n",
      "Decision Tree Accuracy: 0.7520759193357058\n",
      "              precision    recall  f1-score   support\n",
      "\n",
      "           0       0.77      0.78      0.78      1084\n",
      "           1       0.74      0.74      0.74       828\n",
      "           2       0.82      0.82      0.82       998\n",
      "           3       0.72      0.71      0.71       502\n",
      "           4       0.67      0.67      0.67       803\n",
      "\n",
      "    accuracy                           0.75      4215\n",
      "   macro avg       0.74      0.74      0.74      4215\n",
      "weighted avg       0.75      0.75      0.75      4215\n",
      "\n",
      "\n",
      "Random Forest Accuracy: 0.8030842230130486\n",
      "              precision    recall  f1-score   support\n",
      "\n",
      "           0       0.78      0.91      0.84      1084\n",
      "           1       0.79      0.72      0.75       828\n",
      "           2       0.81      0.90      0.86       998\n",
      "           3       0.89      0.69      0.77       502\n",
      "           4       0.79      0.70      0.74       803\n",
      "\n",
      "    accuracy                           0.80      4215\n",
      "   macro avg       0.81      0.78      0.79      4215\n",
      "weighted avg       0.81      0.80      0.80      4215\n",
      "\n"
     ]
    }
   ],
   "source": [
    "# Write your code here to build any 3 models and evaluate them using the required metrics\n",
    "\n",
    "# Step 1: Fix Topic assignment and create training_data\n",
    "df_clean['Topic'] = topic_values.argmax(axis=1)\n",
    "\n",
    "training_data = df_clean[['complaints', 'Topic']].dropna()\n",
    "training_data['Topic'] = training_data['Topic'].astype(int)\n",
    "\n",
    "print(\"Training data shape:\", training_data.shape)\n",
    "print(\"Unique Topics:\", training_data['Topic'].unique())\n",
    "\n",
    "# Step 2: Create vector counts and TF-IDF\n",
    "count_vect = CountVectorizer()\n",
    "X_counts = count_vect.fit_transform(training_data['complaints'])\n",
    "\n",
    "tfidf_transformer = TfidfTransformer()\n",
    "X_tfidf = tfidf_transformer.fit_transform(X_counts)\n",
    "\n",
    "# Step 3: Train-test split\n",
    "X_train, X_test, y_train, y_test = train_test_split(\n",
    "    X_tfidf, training_data['Topic'], test_size=0.2, random_state=42\n",
    ")\n",
    "\n",
    "# Step 4: Build and evaluate 3 models\n",
    "\n",
    "# Logistic Regression\n",
    "lr_model = LogisticRegression(max_iter=1000)\n",
    "lr_model.fit(X_train, y_train)\n",
    "y_pred_lr = lr_model.predict(X_test)\n",
    "print(\"Logistic Regression Accuracy:\", accuracy_score(y_test, y_pred_lr))\n",
    "print(classification_report(y_test, y_pred_lr))\n",
    "\n",
    "# Decision Tree\n",
    "dt_model = DecisionTreeClassifier(random_state=42)\n",
    "dt_model.fit(X_train, y_train)\n",
    "y_pred_dt = dt_model.predict(X_test)\n",
    "print(\"\\nDecision Tree Accuracy:\", accuracy_score(y_test, y_pred_dt))\n",
    "print(classification_report(y_test, y_pred_dt))\n",
    "\n",
    "# Random Forest\n",
    "rf_model = RandomForestClassifier(n_estimators=100, random_state=42)\n",
    "rf_model.fit(X_train, y_train)\n",
    "y_pred_rf = rf_model.predict(X_test)\n",
    "print(\"\\nRandom Forest Accuracy:\", accuracy_score(y_test, y_pred_rf))\n",
    "print(classification_report(y_test, y_pred_rf))"
   ]
  },
  {
   "cell_type": "code",
   "execution_count": 99,
   "metadata": {
    "id": "N2OznsObJrGP"
   },
   "outputs": [
    {
     "data": {
      "image/png": "[encoded data removed]",
      "text/plain": [
       "<Figure size 600x400 with 2 Axes>"
      ]
     },
     "metadata": {},
     "output_type": "display_data"
    },
    {
     "data": {
      "image/png": "[encoded data removed]",
      "text/plain": [
       "<Figure size 600x400 with 2 Axes>"
      ]
     },
     "metadata": {},
     "output_type": "display_data"
    },
    {
     "data": {
      "image/png": "[encoded data removed]",
      "text/plain": [
       "<Figure size 600x400 with 2 Axes>"
      ]
     },
     "metadata": {},
     "output_type": "display_data"
    }
   ],
   "source": [
    "# Function to plot confusion matrix\n",
    "\n",
    "def plot_confusion_matrix(y_true, y_pred, title):\n",
    "    cm = confusion_matrix(y_true, y_pred)\n",
    "    plt.figure(figsize=(6, 4))\n",
    "    sns.heatmap(cm, annot=True, fmt='d', cmap='Blues', xticklabels=[0,1,2,3,4], yticklabels=[0,1,2,3,4])\n",
    "    plt.xlabel('Predicted')\n",
    "    plt.ylabel('Actual')\n",
    "    plt.title(title)\n",
    "    plt.show()\n",
    "\n",
    "# Logistic Regression CM\n",
    "plot_confusion_matrix(y_test, y_pred_lr, \"Confusion Matrix - Logistic Regression\")\n",
    "\n",
    "# Decision Tree CM\n",
    "plot_confusion_matrix(y_test, y_pred_dt, \"Confusion Matrix - Decision Tree\")\n",
    "\n",
    "# Random Forest CM\n",
    "plot_confusion_matrix(y_test, y_pred_rf, \"Confusion Matrix - Random Forest\")"
   ]
  },
  {
   "cell_type": "markdown",
   "metadata": {},
   "source": [
    "#### Based on the output, Logistic Regression is performing the best among the three models. Here’s why:\n",
    "\n",
    "**1. Accuracy**\n",
    "\n",
    "**Logistic Regression: 0.90**\n",
    "Decision Tree: 0.75\n",
    "Random Forest: 0.80\n",
    "\n",
    "Logistic Regression has the highest accuracy, meaning it correctly classifies the most complaints overall.\n",
    "\n",
    "**2. Precision, Recall, F1-score**\n",
    "\n",
    "**Logistic Regression: Balanced across all topics, with precision and recall around 0.87–0.92. This means it performs well at correctly identifying each topic and avoids many false positives.**\n",
    "Decision Tree: Lower across the board (0.70–0.82), shows signs of overfitting/underfitting.\n",
    "Random Forest: Better than Decision Tree, but still less consistent than Logistic Regression, especially in recall for topics 3 and 4.\n",
    "\n",
    "**3. Consistency Across Classes**\n",
    "\n",
    "**Logistic Regression shows uniform performance across all 5 topics (0–4).**\n",
    "Random Forest is skewed; for example, topic 3 has recall only 0.69 (misses many complaints in that category).\n",
    "Decision Tree has the weakest scores, confirming it’s less generalizable for this dataset.\n",
    "\n",
    "Best Model:\n",
    "\n",
    "**Logistic Regression is the best because it provides the highest overall accuracy, the best F1-scores, and consistent performance across all complaint topics. It handles the high-dimensional TF-IDF features well, which is typical for text classification problems.**"
   ]
  },
  {
   "cell_type": "markdown",
   "metadata": {},
   "source": [
    "## Final end-to-end prediction pipelinI (including model saving, loading, and a function to classify new complaints)\n",
    "\n",
    "This will address the problem statement completely and make the model usable.ts)"
   ]
  },
  {
   "cell_type": "markdown",
   "metadata": {},
   "source": [
    "#### Train and Save the Model + TF-IDF Vectorizer"
   ]
  },
  {
   "cell_type": "code",
   "execution_count": 130,
   "metadata": {},
   "outputs": [
    {
     "name": "stdout",
     "output_type": "stream",
     "text": [
      "Logistic Regression Accuracy: 0.896797153024911\n",
      "              precision    recall  f1-score   support\n",
      "\n",
      "           0       0.90      0.91      0.90      1084\n",
      "           1       0.89      0.88      0.89       828\n",
      "           2       0.92      0.95      0.93       998\n",
      "           3       0.90      0.84      0.87       502\n",
      "           4       0.87      0.86      0.87       803\n",
      "\n",
      "    accuracy                           0.90      4215\n",
      "   macro avg       0.90      0.89      0.89      4215\n",
      "weighted avg       0.90      0.90      0.90      4215\n",
      "\n",
      "Model and vectorizers saved successfully!\n"
     ]
    }
   ],
   "source": [
    "# Step 1: Prepare the training data\n",
    "df_clean['Topic'] = topic_values.argmax(axis=1)  # Assign NMF topic numbers\n",
    "training_data = df_clean[['complaints', 'Topic']].dropna()\n",
    "training_data['Topic'] = training_data['Topic'].astype(int)\n",
    "\n",
    "# Step 2: Create TF-IDF features\n",
    "count_vect = CountVectorizer()\n",
    "X_counts = count_vect.fit_transform(training_data['complaints'])\n",
    "\n",
    "tfidf_transformer = TfidfTransformer()\n",
    "X_tfidf = tfidf_transformer.fit_transform(X_counts)\n",
    "\n",
    "# Step 3: Train-test split\n",
    "X_train, X_test, y_train, y_test = train_test_split(\n",
    "    X_tfidf, training_data['Topic'], test_size=0.2, random_state=42\n",
    ")\n",
    "\n",
    "# Step 4: Train the Logistic Regression model\n",
    "lr_model = LogisticRegression(max_iter=1000)\n",
    "lr_model.fit(X_train, y_train)\n",
    "\n",
    "# Step 5: Evaluate model\n",
    "y_pred_lr = lr_model.predict(X_test)\n",
    "print(\"Logistic Regression Accuracy:\", accuracy_score(y_test, y_pred_lr))\n",
    "print(classification_report(y_test, y_pred_lr))\n",
    "\n",
    "# Step 6: Save model and vectorizers\n",
    "joblib.dump(lr_model, 'logistic_model.pkl')\n",
    "joblib.dump(count_vect, 'count_vectorizer.pkl')\n",
    "joblib.dump(tfidf_transformer, 'tfidf_transformer.pkl')\n",
    "print(\"Model and vectorizers saved successfully!\")"
   ]
  },
  {
   "cell_type": "markdown",
   "metadata": {},
   "source": [
    "#### Create the Prediction Function for New Complaints"
   ]
  },
  {
   "cell_type": "code",
   "execution_count": 132,
   "metadata": {},
   "outputs": [],
   "source": [
    "# Load model and vectorizers\n",
    "lr_model = joblib.load('logistic_model.pkl')\n",
    "count_vect = joblib.load('count_vectorizer.pkl')\n",
    "tfidf_transformer = joblib.load('tfidf_transformer.pkl')\n",
    "\n",
    "# Map topic numbers to category names\n",
    "topic_names = {\n",
    "    0: \"Bank Account services\",\n",
    "    1: \"Credit card / Prepaid card\",\n",
    "    2: \"Theft/Dispute Reporting\",\n",
    "    3: \"Mortgages/Loans\",\n",
    "    4: \"Others\"\n",
    "}\n",
    "\n",
    "def predict_complaint_category(complaint_text):\n",
    "    # Preprocess (if needed, apply same cleaning steps you used earlier)\n",
    "    text_vector = count_vect.transform([complaint_text])\n",
    "    text_tfidf = tfidf_transformer.transform(text_vector)\n",
    "    topic_num = lr_model.predict(text_tfidf)[0]\n",
    "    return topic_names[topic_num]"
   ]
  },
  {
   "cell_type": "markdown",
   "metadata": {},
   "source": [
    "#### Test with a New Complaint"
   ]
  },
  {
   "cell_type": "code",
   "execution_count": 161,
   "metadata": {},
   "outputs": [
    {
     "name": "stdout",
     "output_type": "stream",
     "text": [
      "Predicted Category: Others\n",
      "Predicted Category: Bank Account services\n"
     ]
    }
   ],
   "source": [
    "# Test a complaint\n",
    "\n",
    "test_complaint = \"My credit card was charged twice for the same transaction and the bank is not reversing it.\"\n",
    "predicted_category = predict_complaint_category(test_complaint)\n",
    "print(\"Predicted Category:\", predicted_category)\n",
    "\n",
    "test_complaint2 = \"I am unable to access my savings account online and the branch is not helping.\"\n",
    "print(\"Predicted Category:\", predict_complaint_category(test_complaint2))"
   ]
  },
  {
   "cell_type": "markdown",
   "metadata": {},
   "source": [
    "### Add the preprocessing function (lemmatization, stopword removal, xxxx removal) inside the prediction pipeline so it handles raw text exactly like training data.\n",
    "\n",
    "This ensures consistent results in production."
   ]
  },
  {
   "cell_type": "markdown",
   "metadata": {},
   "source": [
    "#### Define and execute preprocessing function "
   ]
  },
  {
   "cell_type": "code",
   "execution_count": 126,
   "metadata": {},
   "outputs": [
    {
     "name": "stderr",
     "output_type": "stream",
     "text": [
      "100%|████████████████████████████████████████████████████████████████████████████| 21072/21072 [09:39<00:00, 36.34it/s]\n"
     ]
    }
   ],
   "source": [
    "# Use spaCy’s built-in stopwords \n",
    "\n",
    "tqdm.pandas()   # Enable tqdm for pandas\n",
    "\n",
    "from spacy.lang.en.stop_words import STOP_WORDS\n",
    "stop_words = STOP_WORDS  # spaCy's built-in stopwords\n",
    "\n",
    "def preprocess_text(text):\n",
    "    text = text.lower()\n",
    "    text = re.sub(r'\\bxxxx\\b', '', text)\n",
    "    text = re.sub(r'[^a-z\\s]', '', text)\n",
    "    doc = nlp(text)\n",
    "    tokens = [token.lemma_ for token in doc if token.lemma_ not in stop_words and token.is_alpha]\n",
    "    return \" \".join(tokens)\n",
    "\n",
    "# Use progress_apply to show progress bar\n",
    "df_clean['Complaint_clean'] = df_clean['complaints'].progress_apply(preprocess_text)"
   ]
  },
  {
   "cell_type": "markdown",
   "metadata": {},
   "source": [
    "#### Updated Prediction Function with Preprocessing"
   ]
  },
  {
   "cell_type": "code",
   "execution_count": 172,
   "metadata": {},
   "outputs": [],
   "source": [
    "def predict_complaint_category(complaint_text):\n",
    "    # Apply the same preprocessing used during training\n",
    "    cleaned_text = preprocess_text(complaint_text)\n",
    "    # Vectorize and transform\n",
    "    text_vector = count_vect.transform([cleaned_text])\n",
    "    text_tfidf = tfidf_transformer.transform(text_vector)\n",
    "    # Predict topic\n",
    "    topic_num = lr_model.predict(text_tfidf)[0]\n",
    "    return topic_names[topic_num]"
   ]
  },
  {
   "cell_type": "markdown",
   "metadata": {},
   "source": [
    "#### Test with Raw Complaints"
   ]
  },
  {
   "cell_type": "code",
   "execution_count": 174,
   "metadata": {},
   "outputs": [
    {
     "name": "stdout",
     "output_type": "stream",
     "text": [
      "Predicted Category: Credit card / Prepaid card\n",
      "Predicted Category: Bank Account services\n"
     ]
    }
   ],
   "source": [
    "raw_complaint = \"My CREDIT card was charged twice for $200 and the bank won't reverse it!\"\n",
    "print(\"Predicted Category:\", predict_complaint_category(raw_complaint))\n",
    "\n",
    "raw_complaint2 = \"I can't access my account online and the branch is not helping.\"\n",
    "print(\"Predicted Category:\", predict_complaint_category(raw_complaint2))"
   ]
  },
  {
   "cell_type": "markdown",
   "metadata": {},
   "source": [
    "#### Test the model with new/raw complaints"
   ]
  },
  {
   "cell_type": "code",
   "execution_count": 176,
   "metadata": {},
   "outputs": [
    {
     "name": "stdout",
     "output_type": "stream",
     "text": [
      "Complaint: I lost my credit card and someone made unauthorized charges.\n",
      "Predicted Category: Bank account services\n",
      "--------------------------------------------------\n",
      "Complaint: My bank account was frozen without any notice.\n",
      "Predicted Category: Credit card / Prepaid card\n",
      "--------------------------------------------------\n",
      "Complaint: I want to refinance my home loan but facing issues with the mortgage department.\n",
      "Predicted Category: Theft / Dispute reporting\n",
      "--------------------------------------------------\n"
     ]
    }
   ],
   "source": [
    "# Example raw complaints\n",
    "raw_complaints = [\n",
    "    \"I lost my credit card and someone made unauthorized charges.\",\n",
    "    \"My bank account was frozen without any notice.\",\n",
    "    \"I want to refinance my home loan but facing issues with the mortgage department.\"\n",
    "]\n",
    "\n",
    "# Preprocess\n",
    "cleaned = [preprocess_text(c) for c in raw_complaints]\n",
    "\n",
    "# Transform\n",
    "X_new_counts = count_vect.transform(cleaned)\n",
    "X_new_tfidf = tfidf_transformer.transform(X_new_counts)\n",
    "\n",
    "# Predict\n",
    "predictions = lr_model.predict(X_new_tfidf)\n",
    "\n",
    "# Map Topic Numbers to Names\n",
    "topic_map = {\n",
    "    0: \"Credit card / Prepaid card\",\n",
    "    1: \"Bank account services\",\n",
    "    2: \"Theft / Dispute reporting\",\n",
    "    3: \"Mortgages / Loans\",\n",
    "    4: \"Others\"\n",
    "}\n",
    "\n",
    "for c, p in zip(raw_complaints, predictions):\n",
    "    print(f\"Complaint: {c}\")\n",
    "    print(f\"Predicted Category: {topic_map[p]}\")\n",
    "    print(\"-\"*50)"
   ]
  },
  {
   "cell_type": "markdown",
   "metadata": {},
   "source": [
    "#### Save the trained model & vectorizers"
   ]
  },
  {
   "cell_type": "code",
   "execution_count": 178,
   "metadata": {},
   "outputs": [
    {
     "data": {
      "text/plain": [
       "['tfidf_transformer.pkl']"
      ]
     },
     "execution_count": 178,
     "metadata": {},
     "output_type": "execute_result"
    }
   ],
   "source": [
    "joblib.dump(lr_model, \"logistic_regression_model.pkl\")\n",
    "joblib.dump(count_vect, \"count_vectorizer.pkl\")\n",
    "joblib.dump(tfidf_transformer, \"tfidf_transformer.pkl\")"
   ]
  },
  {
   "cell_type": "markdown",
   "metadata": {},
   "source": [
    "#### **Conclusion:**"
   ]
  },
  {
   "cell_type": "markdown",
   "metadata": {},
   "source": [
    " - Applied NMF to extract topics from unlabeled complaint data.\n",
    " - Mapped topics to 5 business categories.\n",
    " - Trained 3 models and selected Logistic Regression as the best (Accuracy ~90%).\n",
    " - Built a classifier that can now automatically categorize new complaints into relevant departments.\n",
    "\n",
    "**Final Report**\n",
    "\n",
    "Using topic modeling (NMF) on unlabeled complaints, we created 5 clusters and mapped them to the required product/service categories. We trained multiple supervised models and found Logistic Regression performed best (90% accuracy). The final model can now classify any new complaint into one of the 5 categories, enabling faster routing and resolution of tickets."
   ]
  }
 ],
 "metadata": {
  "colab": {
   "collapsed_sections": [
    "T9jD_6SeJrF3",
    "5DfCSbbmJrF4",
    "yYzD85nTJrGA",
    "piyLxzj6v07j",
    "280Vbqk-7a8M"
   ],
   "provenance": []
  },
  "kernelspec": {
   "display_name": "Python 3 (ipykernel)",
   "language": "python",
   "name": "python3"
  },
  "language_info": {
   "codemirror_mode": {
    "name": "ipython",
    "version": 3
   },
   "file_extension": ".py",
   "mimetype": "text/x-python",
   "name": "python",
   "nbconvert_exporter": "python",
   "pygments_lexer": "ipython3",
   "version": "3.12.3"
  }
 },
 "nbformat": 4,
 "nbformat_minor": 4
}
